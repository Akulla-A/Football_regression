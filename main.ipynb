{
 "cells": [
  {
   "cell_type": "code",
   "execution_count": 232,
   "metadata": {},
   "outputs": [],
   "source": [
    "import pandas as pd\n",
    "import numpy as np\n",
    "\n",
    "from os import listdir\n",
    "from os.path import isfile, join\n",
    "\n",
    "from sklearn.model_selection import train_test_split, GridSearchCV\n",
    "from sklearn.ensemble import RandomForestRegressor\n",
    "from sklearn.metrics import mean_squared_error, r2_score\n",
    "from sklearn.pipeline import Pipeline\n",
    "from sklearn.preprocessing import StandardScaler\n",
    "\n",
    "from sklearn.linear_model import LinearRegression, Ridge, Lasso, ElasticNet\n",
    "from sklearn.tree import DecisionTreeRegressor\n",
    "from sklearn.ensemble import RandomForestRegressor, GradientBoostingRegressor\n",
    "from sklearn.pipeline import Pipeline\n",
    "from sklearn.model_selection import GridSearchCV\n",
    "from sklearn.preprocessing import StandardScaler\n",
    "from sklearn.metrics import mean_squared_error, r2_score\n",
    "from sklearn.preprocessing import OneHotEncoder"
   ]
  },
  {
   "cell_type": "code",
   "execution_count": 233,
   "metadata": {},
   "outputs": [
    {
     "name": "stdout",
     "output_type": "stream",
     "text": [
      "dict_keys(['clubs', 'club_games', 'game_lineups', 'players', 'stats'])\n"
     ]
    }
   ],
   "source": [
    "datasets = {}\n",
    "\n",
    "path = \"data/\"\n",
    "for f in listdir(path):\n",
    "    if isfile(join(path, f)):\n",
    "        datasets[f.replace(\".csv\", \"\")] = pd.read_csv(join(path, f))\n",
    "\n",
    "print(datasets.keys())"
   ]
  },
  {
   "cell_type": "markdown",
   "metadata": {},
   "source": [
    "player_valuations: Les joueurs ont leur prix évalués chaque année, 2 fois, dans le dataset.\n",
    "Hors, la dernière année comporte qu'une valeur. Cette valeur correspond a celle du dataset players.csv\n",
    "On peut donc se passer de player_valuations."
   ]
  },
  {
   "cell_type": "code",
   "execution_count": 234,
   "metadata": {},
   "outputs": [],
   "source": [
    "# Clear columns\n",
    "clear_columns = {\n",
    "    \"players\": {\n",
    "        \"first_name\",\n",
    "        \"last_name\",\n",
    "        \"player_code\",\n",
    "        \"city_of_birth\",\n",
    "        \"country_of_citizenship\",\n",
    "        \"image_url\",\n",
    "        \"url\"\n",
    "    },\n",
    "\n",
    "    \"stats\": {\n",
    "        \"Rk\", \"Born\", \n",
    "    }\n",
    "}\n",
    "\n",
    "# Clear too old data, we keep 2023 ones.\n",
    "# The issue is that, we have valuations for each year. Something we don't want.\n",
    "\n",
    "# Some names are in double in stats.csv, keep the newer\n"
   ]
  },
  {
   "cell_type": "markdown",
   "metadata": {},
   "source": [
    "Players et stats sont 2 datasets fusionnés\n",
    "Ce qu'on peut extraire des autres csv est le ratio de victoires ( club_games ), combien de fois le joueur a été capitaine, si il était remplaçant ou titulaire ( game_lineups ),  "
   ]
  },
  {
   "cell_type": "code",
   "execution_count": 235,
   "metadata": {},
   "outputs": [],
   "source": [
    "lups = datasets[\"game_lineups\"]\n",
    "all_players = lups['player_id'].unique()\n",
    "\n",
    "# capitaines\n",
    "team_captain_games = lups[lups['team_captain'] == 1]\n",
    "captain_counts = team_captain_games['player_id'].value_counts()\n",
    "captain_counts = captain_counts.reindex(all_players, fill_value=0)\n",
    "\n",
    "# starting\n",
    "starting_lineups = lups[lups['type'] == \"starting_lineup\"]\n",
    "starting_counts = starting_lineups['player_id'].value_counts()\n",
    "starting_counts = starting_counts.reindex(all_players, fill_value=0)\n",
    "\n",
    "# substitutes\n",
    "substitutes = lups[lups['type'] == \"substitutes\"]\n",
    "substitutes_counts = substitutes['player_id'].value_counts()\n",
    "substitutes_counts = substitutes_counts.reindex(all_players, fill_value=0)\n",
    "\n",
    "# Rename\n",
    "substitutes_counts.columns = ['player_id', 'substitutes_number']\n",
    "starting_counts.columns = ['player_id', 'starting_lineup_number']\n",
    "captain_counts.columns = ['player_id', 'captain_number']\n",
    "\n",
    "starting_counts = starting_counts.reset_index()\n",
    "substitutes_counts = substitutes_counts.reset_index()\n",
    "captain_counts = captain_counts.reset_index()\n",
    "\n",
    "# Merge the clean_dataset with counts DataFrames\n",
    "_datasetCleaning = pd.merge(pd.merge(datasets[\"stats\"], datasets[\"players\"], on=\"name\"), substitutes_counts, on=\"player_id\", how=\"left\")\n",
    "_datasetCleaning = pd.merge(_datasetCleaning, starting_counts, on=\"player_id\", how=\"left\")\n",
    "_datasetCleaning = pd.merge(_datasetCleaning, captain_counts, on=\"player_id\", how=\"left\")"
   ]
  },
  {
   "cell_type": "code",
   "execution_count": 236,
   "metadata": {},
   "outputs": [
    {
     "name": "stdout",
     "output_type": "stream",
     "text": [
      "(1933, 149)\n"
     ]
    }
   ],
   "source": [
    "print(_datasetCleaning.shape)"
   ]
  },
  {
   "cell_type": "markdown",
   "metadata": {},
   "source": [
    "1.? - 1-Hot encoding/String transform"
   ]
  },
  {
   "cell_type": "code",
   "execution_count": 237,
   "metadata": {},
   "outputs": [],
   "source": [
    "_datasetCleaning[\"foot\"] = [int(x == \"right\") for x in _datasetCleaning[\"foot\"]]\n",
    "_datasetCleaning = pd.concat([_datasetCleaning, pd.get_dummies(_datasetCleaning.position)], axis=1)\n",
    "_datasetCleaning = pd.concat([_datasetCleaning, pd.get_dummies(_datasetCleaning.sub_position)], axis=1)\n",
    "_datasetCleaning = pd.concat([_datasetCleaning, pd.get_dummies(_datasetCleaning.Comp)], axis=1)"
   ]
  },
  {
   "cell_type": "markdown",
   "metadata": {},
   "source": [
    "1.? - Nettoyage"
   ]
  },
  {
   "cell_type": "code",
   "execution_count": 238,
   "metadata": {},
   "outputs": [
    {
     "name": "stdout",
     "output_type": "stream",
     "text": [
      "On a retiré 3 colonnes.\n",
      "On a retiré 58 entrées.\n"
     ]
    }
   ],
   "source": [
    "# Identify non-numeric columns in the dataset\n",
    "post_process_drops = [\n",
    "    \"name\", \"Nation\", \"first_name\", \"last_name\", \"player_code\", \"city_of_birth\", \"date_of_birth\", \"contract_expiration_date\", \"agent_name\", \"image_url\", \n",
    "    'current_club_domestic_competition_id', \"url\",\n",
    "    \"Squad\", # Comporte 98 valeurs uniques, peu utilisable avec un dataset ayant moins de 2k entrées, donc je le drop.\n",
    "    \"country_of_birth\", \"country_of_citizenship\", # 102 valeurs uniques\n",
    "    \"sub_position\", \"position\", \"Comp\", # 1-Hot encoding\n",
    "    \"current_club_name\", # 198 valeurs uniques\n",
    "    \"Pos\" # Doublon\n",
    "]\n",
    "\n",
    "_datasetCleaning = _datasetCleaning.drop(post_process_drops, axis=1, errors='ignore')\n",
    "\n",
    "# Plus de valeurs avec des textes\n",
    "assert(len(_datasetCleaning.select_dtypes(exclude=['number']).columns) == 0)\n",
    "\n",
    "# Nettoyage des NaN\n",
    "columnsSizePreNA = _datasetCleaning.shape[1]\n",
    "_datasetCleaning.dropna(how='all', axis=1, inplace=True) # On retire les colonnes inutiles\n",
    "print(\"On a retiré \" + str(columnsSizePreNA - _datasetCleaning.shape[1]) + \" colonnes.\")\n",
    "\n",
    "columnsSizePreNA = _datasetCleaning.shape[0]\n",
    "_datasetCleaning.dropna(how='any', axis=0, inplace=True) # Et on retire les valeurs nulles\n",
    "print(\"On a retiré \" + str(columnsSizePreNA - _datasetCleaning.shape[0]) + \" entrées.\")\n",
    "\n",
    "# Plus de NaN\n",
    "assert(not _datasetCleaning.isnull().values.any())"
   ]
  },
  {
   "cell_type": "markdown",
   "metadata": {},
   "source": [
    "2 - Préparation du modèle"
   ]
  },
  {
   "cell_type": "code",
   "execution_count": 239,
   "metadata": {},
   "outputs": [],
   "source": [
    "X = _datasetCleaning.drop('market_value_in_eur', axis=1)\n",
    "Y = _datasetCleaning[\"market_value_in_eur\"]\n",
    "\n",
    "X_train, X_test, y_train, y_test = train_test_split(X, Y, test_size=0.3, random_state=1)"
   ]
  },
  {
   "cell_type": "markdown",
   "metadata": {},
   "source": [
    "3 - Modèle(s)"
   ]
  },
  {
   "cell_type": "code",
   "execution_count": 240,
   "metadata": {},
   "outputs": [
    {
     "name": "stdout",
     "output_type": "stream",
     "text": [
      "Training Linear Regression...\n",
      "Training Ridge Regression...\n",
      "Training Lasso Regression...\n"
     ]
    },
    {
     "name": "stderr",
     "output_type": "stream",
     "text": [
      "c:\\Users\\fabio\\AppData\\Local\\Programs\\Python\\Python310\\lib\\site-packages\\sklearn\\linear_model\\_coordinate_descent.py:631: ConvergenceWarning: Objective did not converge. You might want to increase the number of iterations, check the scale of the features or consider increasing regularisation. Duality gap: 4.144e+16, tolerance: 3.808e+13\n",
      "  model = cd_fast.enet_coordinate_descent(\n"
     ]
    },
    {
     "name": "stdout",
     "output_type": "stream",
     "text": [
      "Training ElasticNet...\n"
     ]
    },
    {
     "name": "stderr",
     "output_type": "stream",
     "text": [
      "c:\\Users\\fabio\\AppData\\Local\\Programs\\Python\\Python310\\lib\\site-packages\\sklearn\\linear_model\\_coordinate_descent.py:631: ConvergenceWarning: Objective did not converge. You might want to increase the number of iterations, check the scale of the features or consider increasing regularisation. Duality gap: 4.828e+16, tolerance: 3.808e+13\n",
      "  model = cd_fast.enet_coordinate_descent(\n"
     ]
    },
    {
     "name": "stdout",
     "output_type": "stream",
     "text": [
      "Training Decision Tree...\n",
      "Training Random Forest...\n",
      "Training Gradient Boosting...\n",
      "\n",
      "Linear Regression\n",
      "Best Params: {'model__fit_intercept': True}\n",
      "Best CV Score (MSE): 83246419591122.97\n",
      "Test MSE: 90169928183479.84\n",
      "Test R^2: 0.57\n",
      "\n",
      "Ridge Regression\n",
      "Best Params: {'model__alpha': 10.0}\n",
      "Best CV Score (MSE): 80451899101244.53\n",
      "Test MSE: 85453100994042.78\n",
      "Test R^2: 0.60\n",
      "\n",
      "Lasso Regression\n",
      "Best Params: {'model__alpha': 1.0}\n",
      "Best CV Score (MSE): 82034656064319.56\n",
      "Test MSE: 88300104545104.47\n",
      "Test R^2: 0.58\n",
      "\n",
      "ElasticNet\n",
      "Best Params: {'model__alpha': 0.1, 'model__l1_ratio': 0.5}\n",
      "Best CV Score (MSE): 80091797212010.69\n",
      "Test MSE: 79687622748092.45\n",
      "Test R^2: 0.62\n",
      "\n",
      "Decision Tree\n",
      "Best Params: {'model__max_depth': 5, 'model__min_samples_split': 2}\n",
      "Best CV Score (MSE): 70451520140074.39\n",
      "Test MSE: 64239761909074.19\n",
      "Test R^2: 0.70\n",
      "\n",
      "Random Forest\n",
      "Best Params: {'model__max_depth': 10, 'model__n_estimators': 100}\n",
      "Best CV Score (MSE): 42210642355178.98\n",
      "Test MSE: 49409652441037.11\n",
      "Test R^2: 0.77\n",
      "\n",
      "Gradient Boosting\n",
      "Best Params: {'model__learning_rate': 0.1, 'model__max_depth': 3, 'model__n_estimators': 100}\n",
      "Best CV Score (MSE): 37555580884296.91\n",
      "Test MSE: 41564949208197.27\n",
      "Test R^2: 0.80\n"
     ]
    }
   ],
   "source": [
    "models = {\n",
    "    \"Linear Regression\": (LinearRegression(), {\"model__fit_intercept\": [True, False]}),\n",
    "    \"Ridge Regression\": (Ridge(), {\"model__alpha\": [0.1, 1.0, 10.0]}),\n",
    "    \"Lasso Regression\": (Lasso(), {\"model__alpha\": [0.01, 0.1, 1.0]}),\n",
    "    \"ElasticNet\": (ElasticNet(), {\"model__alpha\": [0.01, 0.1, 1.0], \"model__l1_ratio\": [0.3, 0.5, 0.7]}),\n",
    "    \"Decision Tree\": (DecisionTreeRegressor(), {\"model__max_depth\": [3, 5, 10], \"model__min_samples_split\": [2, 5, 10]}),\n",
    "    \"Random Forest\": (RandomForestRegressor(random_state=42), {\"model__n_estimators\": [50, 100, 200], \"model__max_depth\": [3, 5, 10]}),\n",
    "    \"Gradient Boosting\": (GradientBoostingRegressor(random_state=42), {\"model__n_estimators\": [50, 100, 200], \"model__learning_rate\": [0.01, 0.1, 0.2], \"model__max_depth\": [3, 5]})\n",
    "}\n",
    "\n",
    "# Dictionary to store results\n",
    "results = {}\n",
    "\n",
    "# Train and evaluate each model\n",
    "for name, (model, params) in models.items():\n",
    "    print(f\"Training {name}...\")\n",
    "    \n",
    "    # Create the pipeline with standard scaler and the model\n",
    "    pipeline = Pipeline([\n",
    "        (\"scaler\", StandardScaler()),\n",
    "        (\"model\", model)\n",
    "    ])\n",
    "    \n",
    "    # Perform GridSearchCV\n",
    "    grid = GridSearchCV(\n",
    "        pipeline, \n",
    "        param_grid=params, \n",
    "        cv=5, \n",
    "        scoring=\"neg_mean_squared_error\", \n",
    "        n_jobs=-1\n",
    "    )\n",
    "    grid.fit(X_train, y_train)\n",
    "    \n",
    "    # Evaluate on test set\n",
    "    best_model = grid.best_estimator_\n",
    "    y_pred = best_model.predict(X_test)\n",
    "    mse = mean_squared_error(y_test, y_pred)\n",
    "    r2 = r2_score(y_test, y_pred)\n",
    "    \n",
    "    # Store results\n",
    "    results[name] = {\n",
    "        \"Best Params\": grid.best_params_,\n",
    "        \"Best CV Score (MSE)\": -grid.best_score_,\n",
    "        \"Test MSE\": mse,\n",
    "        \"Test R^2\": r2,\n",
    "        \"Best Model\": best_model\n",
    "    }\n",
    "\n",
    "# Print summary of results\n",
    "for name, res in results.items():\n",
    "    print(f\"\\n{name}\")\n",
    "    print(f\"Best Params: {res['Best Params']}\")\n",
    "    print(f\"Best CV Score (MSE): {res['Best CV Score (MSE)']:.2f}\")\n",
    "    print(f\"Test MSE: {res['Test MSE']:.2f}\")\n",
    "    print(f\"Test R^2: {res['Test R^2']:.2f}\")"
   ]
  },
  {
   "cell_type": "code",
   "execution_count": null,
   "metadata": {},
   "outputs": [],
   "source": []
  }
 ],
 "metadata": {
  "kernelspec": {
   "display_name": "Python 3",
   "language": "python",
   "name": "python3"
  },
  "language_info": {
   "codemirror_mode": {
    "name": "ipython",
    "version": 3
   },
   "file_extension": ".py",
   "mimetype": "text/x-python",
   "name": "python",
   "nbconvert_exporter": "python",
   "pygments_lexer": "ipython3",
   "version": "3.10.1"
  }
 },
 "nbformat": 4,
 "nbformat_minor": 2
}
