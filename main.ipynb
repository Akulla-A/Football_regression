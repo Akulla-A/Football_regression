{
 "cells": [
  {
   "cell_type": "code",
   "execution_count": 2,
   "metadata": {},
   "outputs": [],
   "source": [
    "import pandas as pd\n",
    "import numpy as np\n",
    "import matplotlib.pyplot as plt\n",
    "import seaborn as sns\n",
    "import plotly\n",
    "\n",
    "from os import listdir\n",
    "from os.path import isfile, join\n",
    "\n",
    "from rapidfuzz import process\n",
    "\n",
    "from sklearn.model_selection import train_test_split, GridSearchCV\n",
    "from sklearn.ensemble import RandomForestRegressor, GradientBoostingRegressor\n",
    "from sklearn.metrics import mean_squared_error, mean_absolute_error, r2_score\n",
    "from sklearn.pipeline import Pipeline\n",
    "from sklearn.preprocessing import StandardScaler\n",
    "from sklearn.linear_model import LinearRegression, Ridge, Lasso, ElasticNet\n",
    "from sklearn.tree import DecisionTreeRegressor\n",
    "from sklearn.decomposition import PCA\n",
    "\n",
    "from tqdm.notebook import tqdm\n",
    "\n",
    "import warnings\n",
    "warnings.filterwarnings('ignore', category=FutureWarning)"
   ]
  },
  {
   "cell_type": "code",
   "execution_count": 3,
   "metadata": {},
   "outputs": [
    {
     "data": {
      "text/html": [
       "        <script type=\"text/javascript\">\n",
       "        window.PlotlyConfig = {MathJaxConfig: 'local'};\n",
       "        if (window.MathJax && window.MathJax.Hub && window.MathJax.Hub.Config) {window.MathJax.Hub.Config({SVG: {font: \"STIX-Web\"}});}\n",
       "        if (typeof require !== 'undefined') {\n",
       "        require.undef(\"plotly\");\n",
       "        requirejs.config({\n",
       "            paths: {\n",
       "                'plotly': ['https://cdn.plot.ly/plotly-2.35.2.min']\n",
       "            }\n",
       "        });\n",
       "        require(['plotly'], function(Plotly) {\n",
       "            window._Plotly = Plotly;\n",
       "        });\n",
       "        }\n",
       "        </script>\n",
       "        "
      ]
     },
     "metadata": {},
     "output_type": "display_data"
    }
   ],
   "source": [
    "%config InlineBackend.figure_format=\"retina\"\n",
    "\n",
    "sns.set_style(\"darkgrid\")\n",
    "sns.set_context(\"notebook\")\n",
    "\n",
    "plotly.offline.init_notebook_mode(connected=True)\n",
    "\n",
    "tqdm.pandas()"
   ]
  },
  {
   "cell_type": "markdown",
   "metadata": {},
   "source": [
    "# 1 - Dataset Creation"
   ]
  },
  {
   "cell_type": "code",
   "execution_count": 4,
   "metadata": {},
   "outputs": [
    {
     "name": "stdout",
     "output_type": "stream",
     "text": [
      "dict_keys(['clubs', 'club_games', 'game_lineups', 'players', 'Soccer_Football Clubs Ranking', 'stats'])\n"
     ]
    }
   ],
   "source": [
    "datasets = {}\n",
    "\n",
    "path = \"data/\"\n",
    "for f in listdir(path):\n",
    "    if isfile(join(path, f)):\n",
    "        datasets[f.replace(\".csv\", \"\")] = pd.read_csv(join(path, f))\n",
    "\n",
    "print(datasets.keys())"
   ]
  },
  {
   "cell_type": "markdown",
   "metadata": {},
   "source": [
    "We removed some datasets from the kaggle dataset. Since some of them are redundant or useless, as such, we have the \"player_valuations\" with the price of the player, something\n",
    "we can get from players.csv."
   ]
  },
  {
   "cell_type": "code",
   "execution_count": 5,
   "metadata": {},
   "outputs": [],
   "source": [
    "# Clear columns\n",
    "clear_columns = {\n",
    "    \"players\": {\n",
    "        \"first_name\",\n",
    "        \"last_name\",\n",
    "        \"player_code\",\n",
    "        \"city_of_birth\",\n",
    "        \"country_of_citizenship\",\n",
    "        \"image_url\",\n",
    "        \"url\"\n",
    "    },\n",
    "\n",
    "    \"stats\": {\n",
    "        \"Rk\", \"Born\", \n",
    "    }\n",
    "}\n",
    "\n",
    "# Clear too old data, we keep 2023 ones.\n",
    "# The issue is that, we have valuations for each year. Something we don't want.\n",
    "\n",
    "# Some names are in double in stats.csv, keep the newer\n"
   ]
  },
  {
   "cell_type": "markdown",
   "metadata": {},
   "source": [
    "We want to merge \"Players.csv\" and \"Stats.csv\" into 1 dataset.\n",
    "About the others datasets:\n",
    "- We can get the win ratio in club_games\n",
    "- How many time the player was a team captain and if he was in the starting team. "
   ]
  },
  {
   "cell_type": "code",
   "execution_count": 6,
   "metadata": {},
   "outputs": [],
   "source": [
    "lups = datasets[\"game_lineups\"]\n",
    "all_players = lups['player_id'].unique()\n",
    "\n",
    "# captains\n",
    "team_captain_games = lups[lups['team_captain'] == 1]\n",
    "captain_counts = team_captain_games['player_id'].value_counts()\n",
    "captain_counts = captain_counts.reindex(all_players, fill_value=0)\n",
    "\n",
    "# starting\n",
    "starting_lineups = lups[lups['type'] == \"starting_lineup\"]\n",
    "starting_counts = starting_lineups['player_id'].value_counts()\n",
    "starting_counts = starting_counts.reindex(all_players, fill_value=0)\n",
    "\n",
    "# substitutes\n",
    "substitutes = lups[lups['type'] == \"substitutes\"]\n",
    "substitutes_counts = substitutes['player_id'].value_counts()\n",
    "substitutes_counts = substitutes_counts.reindex(all_players, fill_value=0)\n",
    "\n",
    "# Rename\n",
    "substitutes_counts.columns = ['player_id', 'substitutes_number']\n",
    "starting_counts.columns = ['player_id', 'starting_lineup_number']\n",
    "captain_counts.columns = ['player_id', 'captain_number']\n",
    "\n",
    "starting_counts = starting_counts.reset_index()\n",
    "substitutes_counts = substitutes_counts.reset_index()\n",
    "captain_counts = captain_counts.reset_index()\n",
    "\n",
    "# Merge the clean_dataset with counts DataFrames\n",
    "_datasetCleaning = pd.merge(datasets[\"stats\"], datasets[\"players\"], on=\"name\")\n",
    "_datasetCleaning = pd.merge(_datasetCleaning, substitutes_counts, on=\"player_id\", how=\"left\")\n",
    "_datasetCleaning = pd.merge(_datasetCleaning, starting_counts, on=\"player_id\", how=\"left\")\n",
    "_datasetCleaning = pd.merge(_datasetCleaning, captain_counts, on=\"player_id\", how=\"left\")"
   ]
  },
  {
   "cell_type": "code",
   "execution_count": 7,
   "metadata": {},
   "outputs": [
    {
     "name": "stdout",
     "output_type": "stream",
     "text": [
      "(1933, 149)\n"
     ]
    }
   ],
   "source": [
    "print(_datasetCleaning.shape)"
   ]
  },
  {
   "cell_type": "markdown",
   "metadata": {},
   "source": [
    "..."
   ]
  },
  {
   "cell_type": "markdown",
   "metadata": {},
   "source": [
    "### Converting squad column into club ranking"
   ]
  },
  {
   "cell_type": "markdown",
   "metadata": {},
   "source": [
    "Since the squad column is a categorical value with many possible outcomes, performing one-hot encoding on it would produce a big amount of columns (one for each team).\n",
    "\n",
    "We know there should be a correlation between the club a player belongs to and a player's market value. Since good teams usually have good players, so more valuable ones. Therefore, we would like to keep some information about the team. \n",
    "\n",
    "In order to solve this problem, we use another dataset in which we have several football teams and their latest rankings, and we try to replace the club names with their rankings.\n",
    "\n",
    "The first problem we encounter is that the clubs in our original dataset might be refered to with slightly different names than in the new dataset we're trying to use, since we got it from a different source, for example, 'Machester United' could be referred to as 'Man United'.\n",
    "\n",
    "To resolve this, we use fuzzy matching to find, for each player’s club, the closest matching club name in the rankings dataset. Once the matches are established, we replace the club names in the original dataset with their corresponding rankings. This method works because the club names in both datasets are very similar and differ only by minor variations, such as spelling or abbreviations."
   ]
  },
  {
   "cell_type": "markdown",
   "metadata": {},
   "source": [
    "First, we notice that all the players we have in the original dataset play in the top five leagues, therefore we restrict the rankings dataset to teams from five countries (England, Spain, Germany, Italy and France). This is especially useful because some teams have the same name. For example, 'Real Sociedad' is both present in Spain and Uruguay. But we make sure that there are no teams with the same name from the rankings dataset in these five countries. This way we make sure the matching is done correctly."
   ]
  },
  {
   "cell_type": "code",
   "execution_count": 8,
   "metadata": {},
   "outputs": [
    {
     "data": {
      "text/plain": [
       "1933"
      ]
     },
     "execution_count": 8,
     "metadata": {},
     "output_type": "execute_result"
    }
   ],
   "source": [
    "# Players outside of the top 5 leagues in our dataset\n",
    "s = 0\n",
    "leagues = _datasetCleaning.iloc[:, -5:]\n",
    "indexes = []\n",
    "for i, row in leagues.iterrows():\n",
    "    add = False\n",
    "    for j in range(5):\n",
    "        if row[j] == True:\n",
    "            add = True\n",
    "    if not add:\n",
    "        s += 1\n",
    "        indexes.append(i)\n",
    "s"
   ]
  },
  {
   "cell_type": "markdown",
   "metadata": {},
   "source": [
    "Since there are no players out of the top five leagues, we can proceed with restricting the rankings dataset on the five countries mentioned previously. "
   ]
  },
  {
   "cell_type": "code",
   "execution_count": 9,
   "metadata": {},
   "outputs": [
    {
     "data": {
      "text/html": [
       "<div>\n",
       "<style scoped>\n",
       "    .dataframe tbody tr th:only-of-type {\n",
       "        vertical-align: middle;\n",
       "    }\n",
       "\n",
       "    .dataframe tbody tr th {\n",
       "        vertical-align: top;\n",
       "    }\n",
       "\n",
       "    .dataframe thead th {\n",
       "        text-align: right;\n",
       "    }\n",
       "</style>\n",
       "<table border=\"1\" class=\"dataframe\">\n",
       "  <thead>\n",
       "    <tr style=\"text-align: right;\">\n",
       "      <th></th>\n",
       "      <th>ranking</th>\n",
       "      <th>club name</th>\n",
       "      <th>country</th>\n",
       "      <th>point score</th>\n",
       "      <th>1 year change</th>\n",
       "      <th>previous point scored</th>\n",
       "      <th>symbol change</th>\n",
       "    </tr>\n",
       "  </thead>\n",
       "  <tbody>\n",
       "    <tr>\n",
       "      <th>0</th>\n",
       "      <td>88</td>\n",
       "      <td>1. FC Köln</td>\n",
       "      <td>Germany</td>\n",
       "      <td>1633</td>\n",
       "      <td>105</td>\n",
       "      <td>1545</td>\n",
       "      <td>+</td>\n",
       "    </tr>\n",
       "    <tr>\n",
       "      <th>1</th>\n",
       "      <td>74</td>\n",
       "      <td>1. FC Union Berlin</td>\n",
       "      <td>Germany</td>\n",
       "      <td>1655</td>\n",
       "      <td>5</td>\n",
       "      <td>1654</td>\n",
       "      <td>+</td>\n",
       "    </tr>\n",
       "    <tr>\n",
       "      <th>20</th>\n",
       "      <td>11</td>\n",
       "      <td>AC Milan</td>\n",
       "      <td>Italy</td>\n",
       "      <td>1850</td>\n",
       "      <td>21</td>\n",
       "      <td>1741</td>\n",
       "      <td>+</td>\n",
       "    </tr>\n",
       "    <tr>\n",
       "      <th>54</th>\n",
       "      <td>270</td>\n",
       "      <td>AFC Bournemouth</td>\n",
       "      <td>England</td>\n",
       "      <td>1512</td>\n",
       "      <td>7</td>\n",
       "      <td>1512</td>\n",
       "      <td>-</td>\n",
       "    </tr>\n",
       "    <tr>\n",
       "      <th>70</th>\n",
       "      <td>823</td>\n",
       "      <td>Ajaccio</td>\n",
       "      <td>France</td>\n",
       "      <td>1369</td>\n",
       "      <td>13</td>\n",
       "      <td>1369</td>\n",
       "      <td>-</td>\n",
       "    </tr>\n",
       "  </tbody>\n",
       "</table>\n",
       "</div>"
      ],
      "text/plain": [
       "    ranking          club name   country  point score  1 year change  \\\n",
       "0        88          1. FC Köln  Germany         1633            105   \n",
       "1        74  1. FC Union Berlin  Germany         1655              5   \n",
       "20       11            AC Milan    Italy         1850             21   \n",
       "54      270     AFC Bournemouth  England         1512              7   \n",
       "70      823             Ajaccio   France         1369             13   \n",
       "\n",
       "    previous point scored symbol change  \n",
       "0                    1545             +  \n",
       "1                    1654             +  \n",
       "20                   1741             +  \n",
       "54                   1512             -  \n",
       "70                   1369             -  "
      ]
     },
     "execution_count": 9,
     "metadata": {},
     "output_type": "execute_result"
    }
   ],
   "source": [
    "rankings_df = pd.read_csv(path + 'Soccer_Football Clubs Ranking.csv', sep=';')\n",
    "\n",
    "# We only keep teams in the big 5 leagues\n",
    "rankings_df = rankings_df[rankings_df['country'].isin(['Germany', 'Spain', 'France', 'Italy', 'England'])]\n",
    "rankings_df.head()"
   ]
  },
  {
   "cell_type": "markdown",
   "metadata": {},
   "source": [
    "We check for duplicates in the rankings dataset."
   ]
  },
  {
   "cell_type": "code",
   "execution_count": 10,
   "metadata": {},
   "outputs": [
    {
     "name": "stdout",
     "output_type": "stream",
     "text": [
      "There are 6 unique duplicate values and 6 total duplicates in the column 'club name '.\n",
      "Duplicate values and their counts:\n",
      "Angers           1\n",
      "Evian TG         1\n",
      "GFC Ajaccio      1\n",
      "Málaga           1\n",
      "Middlesbrough    1\n",
      "Nancy            1\n",
      "Name: club name , dtype: int64\n"
     ]
    }
   ],
   "source": [
    "# Check for duplicate teams\n",
    "duplicates = rankings_df['club name '][rankings_df['club name '].duplicated()]\n",
    "\n",
    "if not duplicates.empty:\n",
    "    print(f\"There are {duplicates.nunique()} unique duplicate values and {duplicates.size} total duplicates in the column 'club name '.\")\n",
    "    print(\"Duplicate values and their counts:\")\n",
    "    print(duplicates.value_counts())\n",
    "else:\n",
    "    print(f\"There are no duplicates in the column 'club name '.\")"
   ]
  },
  {
   "cell_type": "code",
   "execution_count": 11,
   "metadata": {},
   "outputs": [
    {
     "data": {
      "text/html": [
       "<div>\n",
       "<style scoped>\n",
       "    .dataframe tbody tr th:only-of-type {\n",
       "        vertical-align: middle;\n",
       "    }\n",
       "\n",
       "    .dataframe tbody tr th {\n",
       "        vertical-align: top;\n",
       "    }\n",
       "\n",
       "    .dataframe thead th {\n",
       "        text-align: right;\n",
       "    }\n",
       "</style>\n",
       "<table border=\"1\" class=\"dataframe\">\n",
       "  <thead>\n",
       "    <tr style=\"text-align: right;\">\n",
       "      <th></th>\n",
       "      <th>ranking</th>\n",
       "      <th>club name</th>\n",
       "      <th>country</th>\n",
       "      <th>point score</th>\n",
       "      <th>1 year change</th>\n",
       "      <th>previous point scored</th>\n",
       "      <th>symbol change</th>\n",
       "    </tr>\n",
       "  </thead>\n",
       "  <tbody>\n",
       "    <tr>\n",
       "      <th>223</th>\n",
       "      <td>475</td>\n",
       "      <td>Angers</td>\n",
       "      <td>France</td>\n",
       "      <td>1440</td>\n",
       "      <td>121</td>\n",
       "      <td>1474</td>\n",
       "      <td>-</td>\n",
       "    </tr>\n",
       "    <tr>\n",
       "      <th>224</th>\n",
       "      <td>475</td>\n",
       "      <td>Angers</td>\n",
       "      <td>France</td>\n",
       "      <td>1440</td>\n",
       "      <td>121</td>\n",
       "      <td>1474</td>\n",
       "      <td>-</td>\n",
       "    </tr>\n",
       "    <tr>\n",
       "      <th>913</th>\n",
       "      <td>484</td>\n",
       "      <td>Evian TG</td>\n",
       "      <td>France</td>\n",
       "      <td>1439</td>\n",
       "      <td>2</td>\n",
       "      <td>1439</td>\n",
       "      <td>-</td>\n",
       "    </tr>\n",
       "    <tr>\n",
       "      <th>914</th>\n",
       "      <td>484</td>\n",
       "      <td>Evian TG</td>\n",
       "      <td>France</td>\n",
       "      <td>1439</td>\n",
       "      <td>2</td>\n",
       "      <td>1439</td>\n",
       "      <td>-</td>\n",
       "    </tr>\n",
       "    <tr>\n",
       "      <th>1165</th>\n",
       "      <td>485</td>\n",
       "      <td>GFC Ajaccio</td>\n",
       "      <td>France</td>\n",
       "      <td>1438</td>\n",
       "      <td>1</td>\n",
       "      <td>1438</td>\n",
       "      <td>-</td>\n",
       "    </tr>\n",
       "    <tr>\n",
       "      <th>1166</th>\n",
       "      <td>485</td>\n",
       "      <td>GFC Ajaccio</td>\n",
       "      <td>France</td>\n",
       "      <td>1438</td>\n",
       "      <td>1</td>\n",
       "      <td>1438</td>\n",
       "      <td>-</td>\n",
       "    </tr>\n",
       "    <tr>\n",
       "      <th>1628</th>\n",
       "      <td>451</td>\n",
       "      <td>Málaga</td>\n",
       "      <td>Spain</td>\n",
       "      <td>1446</td>\n",
       "      <td>1</td>\n",
       "      <td>1446</td>\n",
       "      <td>-</td>\n",
       "    </tr>\n",
       "    <tr>\n",
       "      <th>1629</th>\n",
       "      <td>451</td>\n",
       "      <td>Málaga</td>\n",
       "      <td>Spain</td>\n",
       "      <td>1446</td>\n",
       "      <td>1</td>\n",
       "      <td>1446</td>\n",
       "      <td>-</td>\n",
       "    </tr>\n",
       "    <tr>\n",
       "      <th>1691</th>\n",
       "      <td>465</td>\n",
       "      <td>Middlesbrough</td>\n",
       "      <td>England</td>\n",
       "      <td>1443</td>\n",
       "      <td>4</td>\n",
       "      <td>1443</td>\n",
       "      <td>-</td>\n",
       "    </tr>\n",
       "    <tr>\n",
       "      <th>1692</th>\n",
       "      <td>465</td>\n",
       "      <td>Middlesbrough</td>\n",
       "      <td>England</td>\n",
       "      <td>1443</td>\n",
       "      <td>4</td>\n",
       "      <td>1443</td>\n",
       "      <td>-</td>\n",
       "    </tr>\n",
       "    <tr>\n",
       "      <th>1781</th>\n",
       "      <td>482</td>\n",
       "      <td>Nancy</td>\n",
       "      <td>France</td>\n",
       "      <td>1439</td>\n",
       "      <td>2</td>\n",
       "      <td>1439</td>\n",
       "      <td>-</td>\n",
       "    </tr>\n",
       "    <tr>\n",
       "      <th>1782</th>\n",
       "      <td>482</td>\n",
       "      <td>Nancy</td>\n",
       "      <td>France</td>\n",
       "      <td>1439</td>\n",
       "      <td>2</td>\n",
       "      <td>1439</td>\n",
       "      <td>-</td>\n",
       "    </tr>\n",
       "  </tbody>\n",
       "</table>\n",
       "</div>"
      ],
      "text/plain": [
       "      ranking     club name   country  point score  1 year change  \\\n",
       "223       475         Angers   France         1440            121   \n",
       "224       475         Angers   France         1440            121   \n",
       "913       484       Evian TG   France         1439              2   \n",
       "914       484       Evian TG   France         1439              2   \n",
       "1165      485    GFC Ajaccio   France         1438              1   \n",
       "1166      485    GFC Ajaccio   France         1438              1   \n",
       "1628      451         Málaga    Spain         1446              1   \n",
       "1629      451         Málaga    Spain         1446              1   \n",
       "1691      465  Middlesbrough  England         1443              4   \n",
       "1692      465  Middlesbrough  England         1443              4   \n",
       "1781      482          Nancy   France         1439              2   \n",
       "1782      482          Nancy   France         1439              2   \n",
       "\n",
       "      previous point scored symbol change  \n",
       "223                    1474             -  \n",
       "224                    1474             -  \n",
       "913                    1439             -  \n",
       "914                    1439             -  \n",
       "1165                   1438             -  \n",
       "1166                   1438             -  \n",
       "1628                   1446             -  \n",
       "1629                   1446             -  \n",
       "1691                   1443             -  \n",
       "1692                   1443             -  \n",
       "1781                   1439             -  \n",
       "1782                   1439             -  "
      ]
     },
     "execution_count": 11,
     "metadata": {},
     "output_type": "execute_result"
    }
   ],
   "source": [
    "duplicate_rows = rankings_df[rankings_df['club name '].duplicated(keep=False)]\n",
    "duplicate_rows"
   ]
  },
  {
   "cell_type": "markdown",
   "metadata": {},
   "source": [
    "We notice that the rows don't refer to different teams, so we can delete the duplicates."
   ]
  },
  {
   "cell_type": "code",
   "execution_count": 12,
   "metadata": {},
   "outputs": [
    {
     "name": "stdout",
     "output_type": "stream",
     "text": [
      "There are no duplicates in the column 'club name '.\n"
     ]
    }
   ],
   "source": [
    "# Remove duplicate rows based on the column 'club name '\n",
    "rankings_df = rankings_df.drop_duplicates(subset='club name ', keep='first')\n",
    "duplicates = rankings_df['club name '][rankings_df['club name '].duplicated()]\n",
    "\n",
    "if not duplicates.empty:\n",
    "    print(f\"There are {duplicates.nunique()} unique duplicate values and {duplicates.size} total duplicates in the column 'club name '.\")\n",
    "    print(\"Duplicate values and their counts:\")\n",
    "    print(duplicates.value_counts())\n",
    "else:\n",
    "    print(f\"There are no duplicates in the column 'club name '.\")"
   ]
  },
  {
   "cell_type": "markdown",
   "metadata": {},
   "source": [
    "Now, we can proceed with our matching:"
   ]
  },
  {
   "cell_type": "code",
   "execution_count": 13,
   "metadata": {},
   "outputs": [],
   "source": [
    "# Create a dictionary of matches\n",
    "club_list = rankings_df['club name '].tolist()\n",
    "club_rankings = rankings_df.set_index('club name ')['ranking'].to_dict()\n",
    "\n",
    "def get_best_match(club_name):\n",
    "    match, score, _ = process.extractOne(club_name, club_list)\n",
    "    if score >= 50:  # Adjust threshold as needed\n",
    "        return club_rankings[match]\n",
    "    return None\n",
    "\n",
    "# Apply the function to all rows using pandas' `apply`\n",
    "_datasetCleaning['Squad'] = _datasetCleaning['Squad'].apply(get_best_match)\n",
    "_datasetCleaning.rename(columns={'Squad': 'Club Ranking'}, inplace=True)\n"
   ]
  },
  {
   "cell_type": "markdown",
   "metadata": {},
   "source": [
    "The football clubs are replaced with their corresponding rankings. We can proceed with the data cleaning."
   ]
  },
  {
   "cell_type": "markdown",
   "metadata": {},
   "source": [
    "# 2 - Data Cleaning"
   ]
  },
  {
   "cell_type": "markdown",
   "metadata": {},
   "source": [
    "### 2.1 - One-Hot encoding/String transform"
   ]
  },
  {
   "cell_type": "markdown",
   "metadata": {},
   "source": [
    "In the original dataset, the foot side of players are plain text, with 2 possibles values, \"Right\" and \"Left\". Obviously, we can transform this attribute to 0 and 1."
   ]
  },
  {
   "cell_type": "code",
   "execution_count": 14,
   "metadata": {},
   "outputs": [],
   "source": [
    "_datasetCleaning[\"foot\"] = [int(x == \"right\") for x in _datasetCleaning[\"foot\"]]\n",
    "_datasetCleaning = pd.concat([_datasetCleaning, pd.get_dummies(_datasetCleaning.sub_position)], axis=1)\n",
    "_datasetCleaning = pd.concat([_datasetCleaning, pd.get_dummies(_datasetCleaning.Comp)], axis=1)"
   ]
  },
  {
   "cell_type": "markdown",
   "metadata": {},
   "source": [
    "### 2.2 - Converting Columns to Numericals"
   ]
  },
  {
   "cell_type": "markdown",
   "metadata": {},
   "source": [
    "We convert boolean columns to 0s and 1s."
   ]
  },
  {
   "cell_type": "code",
   "execution_count": 15,
   "metadata": {},
   "outputs": [
    {
     "name": "stdout",
     "output_type": "stream",
     "text": [
      "Boolean columns converted to 0s and 1s.\n"
     ]
    }
   ],
   "source": [
    "bool_columns = _datasetCleaning.select_dtypes(include=['bool']).columns\n",
    "for col in bool_columns:\n",
    "    _datasetCleaning[col] = _datasetCleaning[col].astype(int)\n",
    "\n",
    "print(\"Boolean columns converted to 0s and 1s.\")"
   ]
  },
  {
   "cell_type": "markdown",
   "metadata": {},
   "source": [
    "We drop non-numeric columns we don't need from our dataset."
   ]
  },
  {
   "cell_type": "code",
   "execution_count": 16,
   "metadata": {},
   "outputs": [],
   "source": [
    "# Identify non-numeric columns in the dataset\n",
    "post_process_drops = [\n",
    "    \"Rk\", \"name\", \"Nation\", \"first_name\", \"last_name\", \"player_code\", \"city_of_birth\", \"date_of_birth\", \"contract_expiration_date\", \"agent_name\", \"image_url\", \n",
    "    'current_club_domestic_competition_id', \"url\", # Not useful.\n",
    "    \"country_of_birth\", \"country_of_citizenship\", # 102 unique values, we can't one-hot encode it else it would most likely make no sense for the regression.\n",
    "    \"sub_position\", \"position\", \"Comp\", # one-hot encoding\n",
    "    \"current_club_name\", # 198 unique values, same reason as the \"country_of_birth\"\n",
    "    \"Pos\", # We already have a attribute about the position of the player.\n",
    "    \"Born\" # The year in which a player is equivalent the age so we remove it. We already have it.\n",
    "]\n",
    "\n",
    "_datasetCleaning = _datasetCleaning.drop(post_process_drops, axis=1, errors='ignore')"
   ]
  },
  {
   "cell_type": "markdown",
   "metadata": {},
   "source": [
    "We check if there are any non-numeric variables left. Since it would block most of models."
   ]
  },
  {
   "cell_type": "code",
   "execution_count": 17,
   "metadata": {},
   "outputs": [
    {
     "name": "stdout",
     "output_type": "stream",
     "text": [
      "No non-numeric columns found.\n"
     ]
    }
   ],
   "source": [
    "# Check for non-numeric columns\n",
    "non_numeric_columns = _datasetCleaning.select_dtypes(exclude=['number'])\n",
    "if not non_numeric_columns.empty:\n",
    "    print(\"Non-numeric columns and their types:\")\n",
    "    for col in non_numeric_columns.columns:\n",
    "        print(f\"{col}: {non_numeric_columns[col].dtype}\")\n",
    "else:\n",
    "    print(\"No non-numeric columns found.\")"
   ]
  },
  {
   "cell_type": "markdown",
   "metadata": {},
   "source": [
    "### 2.3 - Null values"
   ]
  },
  {
   "cell_type": "markdown",
   "metadata": {},
   "source": [
    "We remove columns having only null values (if they exist), and each row containing a null value."
   ]
  },
  {
   "cell_type": "code",
   "execution_count": 18,
   "metadata": {},
   "outputs": [
    {
     "name": "stdout",
     "output_type": "stream",
     "text": [
      "We removed 3 columns.\n",
      "We removed 58 rows.\n"
     ]
    }
   ],
   "source": [
    "# Cleaning null values\n",
    "columnsSizePreNA = _datasetCleaning.shape[1]\n",
    "_datasetCleaning.dropna(how='all', axis=1, inplace=True) # We remove useless columns\n",
    "print(\"We removed \" + str(columnsSizePreNA - _datasetCleaning.shape[1]) + \" columns.\")\n",
    "\n",
    "columnsSizePreNA = _datasetCleaning.shape[0]\n",
    "_datasetCleaning.dropna(how='any', axis=0, inplace=True) # We remove null values\n",
    "print(\"We removed \" + str(columnsSizePreNA - _datasetCleaning.shape[0]) + \" rows.\")"
   ]
  },
  {
   "cell_type": "markdown",
   "metadata": {},
   "source": [
    "# 3 - Exploratory Data Analysis and Further Data Cleaning"
   ]
  },
  {
   "cell_type": "markdown",
   "metadata": {},
   "source": [
    "### 3.1 - Correlations Between Independent Variables"
   ]
  },
  {
   "cell_type": "markdown",
   "metadata": {},
   "source": [
    "We check for pairs of independent variables that are highly correlated."
   ]
  },
  {
   "cell_type": "code",
   "execution_count": 19,
   "metadata": {},
   "outputs": [
    {
     "name": "stdout",
     "output_type": "stream",
     "text": [
      "Highly correlated feature pairs:\n",
      "('MP', 'Min'): 0.91\n",
      "('MP', '90s'): 0.91\n",
      "('Starts', 'Min'): 0.99\n",
      "('Starts', '90s'): 0.99\n",
      "('Min', '90s'): 1.00\n",
      "('PasTotCmp', 'PasTotAtt'): 0.97\n",
      "('PasTotCmp', 'PasTotDist'): 0.94\n",
      "('PasTotCmp', 'PasAtt'): 0.97\n",
      "('PasTotCmp', 'PasLive'): 0.97\n",
      "('PasTotCmp', 'PasCmp'): 1.00\n",
      "('PasTotCmp', 'Touches'): 0.93\n",
      "('PasTotCmp', 'TouLive'): 0.93\n",
      "('PasTotAtt', 'PasTotDist'): 0.92\n",
      "('PasTotAtt', 'PasAtt'): 1.00\n",
      "('PasTotAtt', 'PasLive'): 0.98\n",
      "('PasTotAtt', 'PasCmp'): 0.97\n",
      "('PasTotAtt', 'Touches'): 0.97\n",
      "('PasTotAtt', 'TouLive'): 0.97\n",
      "('PasTotDist', 'PasMedCmp'): 0.92\n",
      "('PasTotDist', 'PasMedAtt'): 0.91\n",
      "('PasTotDist', 'PasAtt'): 0.92\n",
      "('PasTotDist', 'PasLive'): 0.90\n",
      "('PasTotDist', 'PasCmp'): 0.94\n",
      "('PasShoCmp', 'PasShoAtt'): 0.98\n",
      "('PasMedCmp', 'PasMedAtt'): 0.98\n",
      "('PasAtt', 'PasLive'): 0.98\n",
      "('PasAtt', 'PasCmp'): 0.97\n",
      "('PasAtt', 'Touches'): 0.97\n",
      "('PasAtt', 'TouLive'): 0.97\n",
      "('PasLive', 'PasCmp'): 0.97\n",
      "('PasLive', 'Touches'): 0.96\n",
      "('PasLive', 'TouLive'): 0.96\n",
      "('PasLive', 'Carries'): 0.90\n",
      "('PasLive', 'Rec'): 0.93\n",
      "('PasCrs', 'Crs'): 1.00\n",
      "('PasCmp', 'Touches'): 0.93\n",
      "('PasCmp', 'TouLive'): 0.93\n",
      "('Tkl', 'Tkl+Int'): 0.91\n",
      "('TklWon', 'TklW'): 1.00\n",
      "('Blocks', 'BlkPass'): 0.92\n",
      "('Touches', 'TouLive'): 1.00\n",
      "('Touches', 'Rec'): 0.91\n",
      "('TouLive', 'Rec'): 0.91\n",
      "('Carries', 'Rec'): 0.93\n",
      "('CarTotDist', 'CarPrgDist'): 0.91\n"
     ]
    }
   ],
   "source": [
    "correlations = _datasetCleaning.corr()\n",
    "np.fill_diagonal(correlations.values, np.nan)\n",
    "high_corr_pairs = {}\n",
    "corr_dict = correlations.to_dict()\n",
    "d_columns = list(corr_dict.keys())\n",
    "\n",
    "for i in range(len(d_columns)):\n",
    "    for j in range(i + 1, len(d_columns)):\n",
    "        corr_value = corr_dict[d_columns[i]][d_columns[j]] \n",
    "        if abs(corr_value) > 0.9:\n",
    "            high_corr_pairs[(d_columns[i], d_columns[j])] = corr_value\n",
    "\n",
    "if high_corr_pairs:\n",
    "    print(\"Highly correlated feature pairs:\")\n",
    "    for pair, corr_value in high_corr_pairs.items():\n",
    "        print(f\"{pair}: {corr_value:.2f}\")\n",
    "else:\n",
    "    print(\"No highly correlated feature pairs found.\")"
   ]
  },
  {
   "cell_type": "code",
   "execution_count": 20,
   "metadata": {},
   "outputs": [
    {
     "name": "stdout",
     "output_type": "stream",
     "text": [
      "Club Ranking\n",
      "Age\n",
      "MP\n",
      "Starts\n",
      "Min\n",
      "90s\n",
      "Goals\n",
      "Shots\n",
      "SoT\n",
      "SoT%\n",
      "G/Sh\n",
      "G/SoT\n",
      "ShoDist\n",
      "ShoFK\n",
      "ShoPK\n",
      "PKatt\n",
      "PasTotCmp\n",
      "PasTotAtt\n",
      "PasTotCmp%\n",
      "PasTotDist\n",
      "PasTotPrgDist\n",
      "PasShoCmp\n",
      "PasShoAtt\n",
      "PasShoCmp%\n",
      "PasMedCmp\n",
      "PasMedAtt\n",
      "PasMedCmp%\n",
      "PasLonCmp\n",
      "PasLonAtt\n",
      "PasLonCmp%\n",
      "Assists\n",
      "PasAss\n",
      "Pas3rd\n",
      "PPA\n",
      "CrsPA\n",
      "PasProg\n",
      "PasAtt\n",
      "PasLive\n",
      "PasDead\n",
      "PasFK\n",
      "TB\n",
      "Sw\n",
      "PasCrs\n",
      "TI\n",
      "CK\n",
      "CkIn\n",
      "CkOut\n",
      "CkStr\n",
      "PasCmp\n",
      "PasOff\n",
      "PasBlocks\n",
      "SCA\n",
      "ScaPassLive\n",
      "ScaPassDead\n",
      "ScaDrib\n",
      "ScaSh\n",
      "ScaFld\n",
      "ScaDef\n",
      "GCA\n",
      "GcaPassLive\n",
      "GcaPassDead\n",
      "GcaDrib\n",
      "GcaSh\n",
      "GcaFld\n",
      "GcaDef\n",
      "Tkl\n",
      "TklWon\n",
      "TklDef3rd\n",
      "TklMid3rd\n",
      "TklAtt3rd\n",
      "TklDri\n",
      "TklDriAtt\n",
      "TklDri%\n",
      "TklDriPast\n",
      "Blocks\n",
      "BlkSh\n",
      "BlkPass\n",
      "Int\n",
      "Tkl+Int\n",
      "Clr\n",
      "Err\n",
      "Touches\n",
      "TouDefPen\n",
      "TouDef3rd\n",
      "TouMid3rd\n",
      "TouAtt3rd\n",
      "TouAttPen\n",
      "TouLive\n",
      "ToAtt\n",
      "ToSuc\n",
      "ToSuc%\n",
      "ToTkl\n",
      "ToTkl%\n",
      "Carries\n",
      "CarTotDist\n",
      "CarPrgDist\n",
      "CarProg\n",
      "Car3rd\n",
      "CPA\n",
      "CarMis\n",
      "CarDis\n",
      "Rec\n",
      "RecProg\n",
      "CrdY\n",
      "CrdR\n",
      "2CrdY\n",
      "Fls\n",
      "Fld\n",
      "Off\n",
      "Crs\n",
      "TklW\n",
      "PKwon\n",
      "PKcon\n",
      "OG\n",
      "Recov\n",
      "AerWon\n",
      "AerLost\n",
      "AerWon%\n",
      "player_id\n",
      "last_season\n",
      "current_club_id\n",
      "foot\n",
      "height_in_cm\n",
      "market_value_in_eur\n",
      "highest_market_value_in_eur\n",
      "Attacking Midfield\n",
      "Central Midfield\n",
      "Centre-Back\n",
      "Centre-Forward\n",
      "Defensive Midfield\n",
      "Goalkeeper\n",
      "Left Midfield\n",
      "Left Winger\n",
      "Left-Back\n",
      "Right Midfield\n",
      "Right Winger\n",
      "Right-Back\n",
      "Second Striker\n",
      "Bundesliga\n",
      "La Liga\n",
      "Ligue 1\n",
      "Premier League\n",
      "Serie A\n"
     ]
    }
   ],
   "source": [
    "for i in _datasetCleaning:\n",
    "    print(i)"
   ]
  },
  {
   "cell_type": "markdown",
   "metadata": {},
   "source": [
    "We notice that some pairs of independent variables have very high correlation, so there is multicollinearity. Some of them reaching one in absolute value, which means some features might carry redundant information. For example 'Min' represents the number of minutes played by a player. and '90s' represents how many 90 minutes were played (matches), and the two are linked by the following relationship $\\text{90s} = \\frac{\\text{Min}}{90}$. \n",
    "\n",
    "So by keeping the two variables we store some redudant information. This can negatively impact certain machine learning models, especially linear models or those sensitive to feature scaling and relationships (e.g., Logistic Regression, Linear Regression) where coefficients become unreliable due to the inability to distinguish the impact of correlated variables. \n",
    "\n",
    "Therefore, we proceed by removing some of the independent variable that have high correlations. We focus on the ones that have the most high correlations, for example 'PasTotAtt' has very high correlations with six other independent variables, so we remove it.\n",
    "\n",
    "Based on the correlation values, we identify the following columns to remove: \"Starts\", \"90s\", \"Rec\", \"PasTotCmp\", \"PasTotAtt\", \"PasTotDist\", \"PasShoCmp\", \"PasMedCmp\", \"PasAtt\", \"PasLive\", \"PasCrs\", \"TklW\", \"Touches\"."
   ]
  },
  {
   "cell_type": "code",
   "execution_count": 21,
   "metadata": {},
   "outputs": [],
   "source": [
    "post_process_drops = [\n",
    "    \"Starts\", \"90s\", \"Rec\", \"PasTotCmp\", \"PasTotAtt\", \"PasTotDist\", \"PasShoCmp\", \"PasMedCmp\", \"PasAtt\", \"PasLive\", \"PasCrs\", \"TklW\", \"Touches\"\n",
    "]\n",
    "\n",
    "_datasetCleaning = _datasetCleaning.drop(post_process_drops, axis=1, errors='ignore')"
   ]
  },
  {
   "cell_type": "markdown",
   "metadata": {},
   "source": [
    "### 3.2 - Correlations With the Target Variable and Data Visualisation"
   ]
  },
  {
   "cell_type": "markdown",
   "metadata": {},
   "source": [
    "We compute the correlations with the target variable, and we check for the highest correlations in absolute value."
   ]
  },
  {
   "cell_type": "code",
   "execution_count": 22,
   "metadata": {},
   "outputs": [
    {
     "data": {
      "text/plain": [
       "{'Club Ranking': -0.26829728362743166,\n",
       " 'MP': 0.29184743816368486,\n",
       " 'Min': 0.32765130782896873,\n",
       " 'Goals': 0.43524032641539756,\n",
       " 'market_value_in_eur': 1.0,\n",
       " 'highest_market_value_in_eur': 0.7783377256844181,\n",
       " 'Premier League': 0.27295734829434853}"
      ]
     },
     "execution_count": 22,
     "metadata": {},
     "output_type": "execute_result"
    }
   ],
   "source": [
    "# Computing highest correlations with the target variable\n",
    "target = 'market_value_in_eur' \n",
    "correlations = _datasetCleaning.corr()\n",
    "corr_dict = correlations.to_dict()\n",
    "d_columns = list(corr_dict.keys())\n",
    "high_corr = {}\n",
    "\n",
    "for i in corr_dict[target]:\n",
    "    if abs(corr_dict[target][i]) > 0.25:\n",
    "        high_corr[i] = corr_dict[target][i]\n",
    "\n",
    "high_corr"
   ]
  },
  {
   "cell_type": "markdown",
   "metadata": {},
   "source": [
    "- 'Club Ranking': The correlation is negative because higher club rankings (closer to 1, so better teams) are associated with more valuable players. However, this does not mean that every player belonging to a top team has a high market value. For example, substitutes are usually not as good as the players in the starting eleven. As a result, the negative correlation between club ranking and market value exists but is not very strong in absolute value.\n",
    "\n",
    "- 'Min': The correlation is positive, as players with more minutes on the field are more likely to be skilled and stand out, leading to higher market value. However, this is not always the case. In lower-ranked teams, less valuable players often get more minutes due to a lack of better options. Additionally, some highly valuable players in top teams might spend more time on the bench, and injuries can also reduce minutes for valuable players. Therefore, while there is a positive correlation, it is not very high.\n",
    "\n",
    "- 'Goals': There is a positive correlation, and it is one of the highest among features. Players who score the most goals usually have higher market values. However, this correlation may vary for players in smaller teams who get more minutes and score goals, their overall market value might still depend on other stats or skills and especially on the league they're playing in.\n",
    "\n",
    "- 'highest_market_value_in_eur': High correlation with the target variable, this is due to the fact that many players might currently have their highest market value.\n",
    "\n",
    "- 'count_y': ...\n",
    "\n",
    "- 'Premier League': There is a positive correlation. Over recent years, market values for players in the Premier League have tended to be higher compared to players in other leagues. This is due to factors like the Premier League’s intensity and competitiveness, the influence of the English press and PR, and the league’s financial capacity. Players with similar skills in other leagues might be evaluated differently because of these factors."
   ]
  },
  {
   "cell_type": "markdown",
   "metadata": {},
   "source": [
    "Next, we make scatterplots of some of the variables that are highly correlated with the dependent variable:"
   ]
  },
  {
   "cell_type": "code",
   "execution_count": null,
   "metadata": {},
   "outputs": [],
   "source": [
    "selected_variables = ['highest_market_value_in_eur', 'Goals', 'Club Ranking', 'Age']  # Replace with your chosen variables\n",
    "from matplotlib.ticker import FuncFormatter\n",
    "\n",
    "def millions_formatter(x, pos):\n",
    "    return f'{x / 1e6:.1f}M' \n",
    "\n",
    "plt.figure(figsize=(14, 9))\n",
    "\n",
    "for i, var in enumerate(selected_variables):\n",
    "    plt.subplot(2, 2, i + 1) \n",
    "    sns.scatterplot(_datasetCleaning, x=selected_variables[i], y=target)\n",
    "    plt.title(f\"{var} vs {target}\")\n",
    "    plt.xlabel(var)\n",
    "    plt.ylabel(target)\n",
    "    plt.gca().yaxis.set_major_formatter(FuncFormatter(millions_formatter))\n",
    "\n",
    "plt.tight_layout()\n",
    "plt.show()"
   ]
  },
  {
   "cell_type": "markdown",
   "metadata": {},
   "source": [
    "- 'highest_market_value_in_eur' : We notice a linear relationship with the target variable. As we mentioned before, this is due to the fact that many players market value is historically their highest, and often a player's market value is not very far from its highest. Exceptions to this occur when a player is very old, or their performances have consistently declined over a long period.\n",
    "\n",
    "- 'Goals': Most of the goal values are concentrated in the interval $[0, 5]$. Within this range, the market value is spread, indicating that scoring few goals does not always imply a specific market value. As the number of goals gets higher we tend to see higher market values.\n",
    "\n",
    "- 'Club Ranking': As discussed earlier, we generally observe higher market values for players in top teams (those with lower ranking numbers). However, there is a high density of players with lower market values playing for teams ranked in the top 200. Additionally, we observe some outliers in teams ranked extremely low (below 1000). These outliers are removed from the analysis to avoid distortion of results.\n",
    "\n",
    "- 'Age': The scatterplot displays a clear non linear pattern with a peak around a specific age range (likely in the early to mid 20s). This reflects players in their prime, when their physical abilities, experience, and skill sets are at their peak. Players aged below 23 generally have lower market values, with a few exceptions (likely exceptional talents or players with high potential). Young players are still developing their skills and gaining experience, which limits their immediate market value. Older players are perceived as having less long-term potential and reduced physical capabilities, leading to a sharp decline in market value. Some experienced top players may still retain relatively high market values, but they are very rare exceptions."
   ]
  },
  {
   "cell_type": "code",
   "execution_count": 24,
   "metadata": {},
   "outputs": [],
   "source": [
    "_datasetCleaning = _datasetCleaning[_datasetCleaning['Club Ranking'] < 1000]"
   ]
  },
  {
   "cell_type": "markdown",
   "metadata": {},
   "source": [
    "For 'Premier League', which is a categorical variable (binary), we plot the two boxplots showing the market value (dependent variables) for players in the Premier League and players in the other four leagues."
   ]
  },
  {
   "cell_type": "code",
   "execution_count": null,
   "metadata": {},
   "outputs": [],
   "source": [
    "plt.figure(figsize=(8, 6))\n",
    "sns.boxplot(x=_datasetCleaning['Premier League'], y=_datasetCleaning[target], color='lightblue')\n",
    "plt.title(f\"{target} Distribution by Age\")\n",
    "plt.xlabel('Premier League')\n",
    "plt.ylabel(target)\n",
    "plt.gca().yaxis.set_major_formatter(FuncFormatter(millions_formatter))\n",
    "plt.tight_layout()\n",
    "plt.show()"
   ]
  },
  {
   "cell_type": "markdown",
   "metadata": {},
   "source": [
    "We observe that the median and, in particular, the 75th percentile of market value are significantly higher for players in the Premier League. This supports our earlier argument that players in the Premier League tend to achieve higher market values on average."
   ]
  },
  {
   "cell_type": "markdown",
   "metadata": {},
   "source": [
    "### 3.3 - Feature transformation"
   ]
  },
  {
   "cell_type": "markdown",
   "metadata": {},
   "source": [
    "By looking at the scatterplot of 'market_value_in_eur' vs 'Club Ranking', we notice a non linear relationship between the two variables.\n",
    "We denote the dependent variable as $y$ (market value) and the independent variable as $x$ (‘Club Ranking’), the relationship between the two can be approximated as $y \\propto \\frac{1}{x}$, with the points being densly concentrated under the curve $y = \\frac{1}{x}$. Furthermore, we notice that as the rankings approach 1 (top teams), the density of players with very high market values is not as high, and we still have a lot of players with low market value. Therefore, we can refine the approximation of the relationship and say that $y \\propto \\frac{1}{\\sqrt[4]{x}}$, with the points densely concentrated under this curve.\n",
    "\n",
    "Based on these findings, and in order to exploit this relationship, we apply a feature transformation to the variable $x$ (Club Ranking) by creating a new feature $f(x) = \\frac{1}{\\sqrt[4]{x}}$. This reciprocal fourth root feature mapping, is performed to capture the observed non-linear relationship between $x$ and the target variable $y$ (Market Value). The original variable $x$ is mapped to a new space where the relationship with $y$ becomes more linear and better aligns with the dense distribution of points under the curve $y = \\frac{1}{\\sqrt[4]{x}}$. This process is an example of feature mapping, which transforms features to enhance their relevance and improve the model’s ability to learn meaningful patterns. We call this new variable 'club_trans'."
   ]
  },
  {
   "cell_type": "code",
   "execution_count": 26,
   "metadata": {},
   "outputs": [
    {
     "data": {
      "text/html": [
       "<div>\n",
       "<style scoped>\n",
       "    .dataframe tbody tr th:only-of-type {\n",
       "        vertical-align: middle;\n",
       "    }\n",
       "\n",
       "    .dataframe tbody tr th {\n",
       "        vertical-align: top;\n",
       "    }\n",
       "\n",
       "    .dataframe thead th {\n",
       "        text-align: right;\n",
       "    }\n",
       "</style>\n",
       "<table border=\"1\" class=\"dataframe\">\n",
       "  <thead>\n",
       "    <tr style=\"text-align: right;\">\n",
       "      <th></th>\n",
       "      <th>Club Ranking</th>\n",
       "      <th>Age</th>\n",
       "      <th>MP</th>\n",
       "      <th>Min</th>\n",
       "      <th>Goals</th>\n",
       "      <th>Shots</th>\n",
       "      <th>SoT</th>\n",
       "      <th>SoT%</th>\n",
       "      <th>G/Sh</th>\n",
       "      <th>G/SoT</th>\n",
       "      <th>...</th>\n",
       "      <th>Right Midfield</th>\n",
       "      <th>Right Winger</th>\n",
       "      <th>Right-Back</th>\n",
       "      <th>Second Striker</th>\n",
       "      <th>Bundesliga</th>\n",
       "      <th>La Liga</th>\n",
       "      <th>Ligue 1</th>\n",
       "      <th>Premier League</th>\n",
       "      <th>Serie A</th>\n",
       "      <th>club_trans</th>\n",
       "    </tr>\n",
       "  </thead>\n",
       "  <tbody>\n",
       "    <tr>\n",
       "      <th>0</th>\n",
       "      <td>162</td>\n",
       "      <td>22</td>\n",
       "      <td>20</td>\n",
       "      <td>1596</td>\n",
       "      <td>1</td>\n",
       "      <td>1.53</td>\n",
       "      <td>0.28</td>\n",
       "      <td>18.5</td>\n",
       "      <td>0.04</td>\n",
       "      <td>0.20</td>\n",
       "      <td>...</td>\n",
       "      <td>0</td>\n",
       "      <td>0</td>\n",
       "      <td>0</td>\n",
       "      <td>0</td>\n",
       "      <td>0</td>\n",
       "      <td>0</td>\n",
       "      <td>0</td>\n",
       "      <td>1</td>\n",
       "      <td>0</td>\n",
       "      <td>0.280299</td>\n",
       "    </tr>\n",
       "    <tr>\n",
       "      <th>1</th>\n",
       "      <td>203</td>\n",
       "      <td>35</td>\n",
       "      <td>22</td>\n",
       "      <td>1980</td>\n",
       "      <td>0</td>\n",
       "      <td>0.86</td>\n",
       "      <td>0.05</td>\n",
       "      <td>5.3</td>\n",
       "      <td>0.00</td>\n",
       "      <td>0.00</td>\n",
       "      <td>...</td>\n",
       "      <td>0</td>\n",
       "      <td>0</td>\n",
       "      <td>0</td>\n",
       "      <td>0</td>\n",
       "      <td>0</td>\n",
       "      <td>0</td>\n",
       "      <td>1</td>\n",
       "      <td>0</td>\n",
       "      <td>0</td>\n",
       "      <td>0.264927</td>\n",
       "    </tr>\n",
       "    <tr>\n",
       "      <th>2</th>\n",
       "      <td>475</td>\n",
       "      <td>23</td>\n",
       "      <td>14</td>\n",
       "      <td>770</td>\n",
       "      <td>0</td>\n",
       "      <td>1.05</td>\n",
       "      <td>0.35</td>\n",
       "      <td>33.3</td>\n",
       "      <td>0.00</td>\n",
       "      <td>0.00</td>\n",
       "      <td>...</td>\n",
       "      <td>0</td>\n",
       "      <td>0</td>\n",
       "      <td>0</td>\n",
       "      <td>0</td>\n",
       "      <td>0</td>\n",
       "      <td>0</td>\n",
       "      <td>1</td>\n",
       "      <td>0</td>\n",
       "      <td>0</td>\n",
       "      <td>0.214204</td>\n",
       "    </tr>\n",
       "    <tr>\n",
       "      <th>3</th>\n",
       "      <td>199</td>\n",
       "      <td>22</td>\n",
       "      <td>20</td>\n",
       "      <td>1799</td>\n",
       "      <td>1</td>\n",
       "      <td>0.60</td>\n",
       "      <td>0.15</td>\n",
       "      <td>25.0</td>\n",
       "      <td>0.08</td>\n",
       "      <td>0.33</td>\n",
       "      <td>...</td>\n",
       "      <td>0</td>\n",
       "      <td>0</td>\n",
       "      <td>0</td>\n",
       "      <td>0</td>\n",
       "      <td>0</td>\n",
       "      <td>0</td>\n",
       "      <td>1</td>\n",
       "      <td>0</td>\n",
       "      <td>0</td>\n",
       "      <td>0.266248</td>\n",
       "    </tr>\n",
       "    <tr>\n",
       "      <th>4</th>\n",
       "      <td>382</td>\n",
       "      <td>30</td>\n",
       "      <td>15</td>\n",
       "      <td>1165</td>\n",
       "      <td>0</td>\n",
       "      <td>0.31</td>\n",
       "      <td>0.00</td>\n",
       "      <td>0.0</td>\n",
       "      <td>0.00</td>\n",
       "      <td>0.00</td>\n",
       "      <td>...</td>\n",
       "      <td>0</td>\n",
       "      <td>0</td>\n",
       "      <td>0</td>\n",
       "      <td>0</td>\n",
       "      <td>0</td>\n",
       "      <td>0</td>\n",
       "      <td>1</td>\n",
       "      <td>0</td>\n",
       "      <td>0</td>\n",
       "      <td>0.226196</td>\n",
       "    </tr>\n",
       "  </tbody>\n",
       "</table>\n",
       "<p>5 rows × 131 columns</p>\n",
       "</div>"
      ],
      "text/plain": [
       "   Club Ranking  Age  MP   Min  Goals  Shots   SoT  SoT%  G/Sh  G/SoT  ...  \\\n",
       "0           162   22  20  1596      1   1.53  0.28  18.5  0.04   0.20  ...   \n",
       "1           203   35  22  1980      0   0.86  0.05   5.3  0.00   0.00  ...   \n",
       "2           475   23  14   770      0   1.05  0.35  33.3  0.00   0.00  ...   \n",
       "3           199   22  20  1799      1   0.60  0.15  25.0  0.08   0.33  ...   \n",
       "4           382   30  15  1165      0   0.31  0.00   0.0  0.00   0.00  ...   \n",
       "\n",
       "   Right Midfield  Right Winger  Right-Back  Second Striker  Bundesliga  \\\n",
       "0               0             0           0               0           0   \n",
       "1               0             0           0               0           0   \n",
       "2               0             0           0               0           0   \n",
       "3               0             0           0               0           0   \n",
       "4               0             0           0               0           0   \n",
       "\n",
       "   La Liga  Ligue 1  Premier League  Serie A  club_trans  \n",
       "0        0        0               1        0    0.280299  \n",
       "1        0        1               0        0    0.264927  \n",
       "2        0        1               0        0    0.214204  \n",
       "3        0        1               0        0    0.266248  \n",
       "4        0        1               0        0    0.226196  \n",
       "\n",
       "[5 rows x 131 columns]"
      ]
     },
     "execution_count": 26,
     "metadata": {},
     "output_type": "execute_result"
    }
   ],
   "source": [
    "_datasetCleaning['club_trans'] = 1/np.power(_datasetCleaning['Club Ranking'], (1/4))\n",
    "_datasetCleaning.head()"
   ]
  },
  {
   "cell_type": "markdown",
   "metadata": {},
   "source": [
    "We show a scatterplot of the new variable vs market value."
   ]
  },
  {
   "cell_type": "code",
   "execution_count": null,
   "metadata": {},
   "outputs": [],
   "source": [
    "plt.figure(figsize=(8, 6))  # Adjust figure size as needed\n",
    "sns.scatterplot(data=_datasetCleaning, x='club_trans', y=target)\n",
    "plt.title(f\"'club_trans vs {target}\")\n",
    "plt.xlabel('club_trans')\n",
    "plt.ylabel(target)\n",
    "plt.gca().yaxis.set_major_formatter(FuncFormatter(millions_formatter))\n",
    "plt.tight_layout()\n",
    "plt.show()"
   ]
  },
  {
   "cell_type": "markdown",
   "metadata": {},
   "source": [
    "Correlation of the new feature with the target:"
   ]
  },
  {
   "cell_type": "code",
   "execution_count": 28,
   "metadata": {},
   "outputs": [
    {
     "data": {
      "text/plain": [
       "0.4592885745078218"
      ]
     },
     "execution_count": 28,
     "metadata": {},
     "output_type": "execute_result"
    }
   ],
   "source": [
    "_datasetCleaning['club_trans'].corr(_datasetCleaning[target])"
   ]
  },
  {
   "cell_type": "markdown",
   "metadata": {},
   "source": [
    "We observe that the relationship between the new variable and the target is more linear. Additionally, the correlation between the two is one of the highest, indicating that the transformation was effective in improving the relationship and capturing the underlying pattern."
   ]
  },
  {
   "cell_type": "markdown",
   "metadata": {},
   "source": [
    "# 4 - Train-Test Split"
   ]
  },
  {
   "cell_type": "code",
   "execution_count": 29,
   "metadata": {},
   "outputs": [],
   "source": [
    "X = _datasetCleaning.drop(target, axis=1)\n",
    "Y = _datasetCleaning[target]\n",
    "\n",
    "X_train, X_test, y_train, y_test = train_test_split(X, Y, test_size=0.3, random_state=1)"
   ]
  },
  {
   "cell_type": "markdown",
   "metadata": {},
   "source": [
    "# 5 - Model Selection"
   ]
  },
  {
   "cell_type": "code",
   "execution_count": 37,
   "metadata": {},
   "outputs": [
    {
     "name": "stdout",
     "output_type": "stream",
     "text": [
      "Training Linear Regression...\n",
      "Training Ridge Regression...\n",
      "Training Lasso Regression...\n"
     ]
    },
    {
     "name": "stderr",
     "output_type": "stream",
     "text": [
      "C:\\Users\\fabio\\AppData\\Roaming\\Python\\Python39\\site-packages\\sklearn\\linear_model\\_coordinate_descent.py:678: ConvergenceWarning:\n",
      "\n",
      "Objective did not converge. You might want to increase the number of iterations, check the scale of the features or consider increasing regularisation. Duality gap: 4.286e+16, tolerance: 3.878e+13\n",
      "\n"
     ]
    },
    {
     "name": "stdout",
     "output_type": "stream",
     "text": [
      "Training ElasticNet...\n",
      "Training Decision Tree...\n",
      "Training Random Forest...\n",
      "Training Gradient Boosting...\n",
      "\n",
      "Linear Regression\n",
      "Best Params: {'model__fit_intercept': True}\n",
      "Best CV Score (MSE): 89206407665657.02\n",
      "Best CV Score (R^2): 0.6869\n",
      "\n",
      "Ridge Regression\n",
      "Best Params: {'model__alpha': 10.0}\n",
      "Best CV Score (MSE): 84122508722205.23\n",
      "Best CV Score (R^2): 0.7063\n",
      "\n",
      "Lasso Regression\n",
      "Best Params: {'model__alpha': 1.0}\n",
      "Best CV Score (MSE): 85396997132495.41\n",
      "Best CV Score (R^2): 0.7012\n",
      "\n",
      "ElasticNet\n",
      "Best Params: {'model__alpha': 0.1, 'model__l1_ratio': 0.3}\n",
      "Best CV Score (MSE): 82353646181027.55\n",
      "Best CV Score (R^2): 0.7142\n",
      "\n",
      "Decision Tree\n",
      "Best Params: {'model__max_depth': 5, 'model__min_samples_split': 2}\n",
      "Best CV Score (MSE): 81557654138424.08\n",
      "Best CV Score (R^2): 0.7255\n",
      "\n",
      "Random Forest\n",
      "Best Params: {'model__max_depth': 10, 'model__n_estimators': 200}\n",
      "Best CV Score (MSE): 53239382481705.37\n",
      "Best CV Score (R^2): 0.8235\n",
      "\n",
      "Gradient Boosting\n",
      "Best Params: {'model__learning_rate': 0.1, 'model__max_depth': 3, 'model__n_estimators': 200}\n",
      "Best CV Score (MSE): 44776189871639.94\n",
      "Best CV Score (R^2): 0.8518\n"
     ]
    }
   ],
   "source": [
    "models = {\n",
    "    \"Linear Regression\": (LinearRegression(), {\"model__fit_intercept\": [True, False]}),\n",
    "    \"Ridge Regression\": (Ridge(), {\"model__alpha\": [0.1, 1.0, 10.0]}),\n",
    "    \"Lasso Regression\": (Lasso(), {\"model__alpha\": [0.01, 0.1, 1.0]}),\n",
    "    \"ElasticNet\": (ElasticNet(), {\"model__alpha\": [0.01, 0.1, 1.0], \"model__l1_ratio\": [0.3, 0.5, 0.7]}),\n",
    "    \"Decision Tree\": (DecisionTreeRegressor(), {\"model__max_depth\": [3, 5, 10], \"model__min_samples_split\": [2, 5, 10]}),\n",
    "    \"Random Forest\": (RandomForestRegressor(random_state=42), {\"model__n_estimators\": [50, 100, 200], \"model__max_depth\": [3, 5, 10]}),\n",
    "    \"Gradient Boosting\": (GradientBoostingRegressor(random_state=42), {\"model__n_estimators\": [50, 100, 200], \"model__learning_rate\": [0.01, 0.1, 0.2], \"model__max_depth\": [3, 5]})\n",
    "}\n",
    "\n",
    "# Dictionary to store results\n",
    "results = {}\n",
    "\n",
    "best_model_name = None\n",
    "best_model = None\n",
    "best_score = 0\n",
    "\n",
    "for name, (model, params) in models.items():\n",
    "    print(f\"Training {name}...\")\n",
    "    \n",
    "    # Create the pipeline with standard scaler and the model\n",
    "    #pca_params = {\"pca__n_components\": [5, 10, 15, 20, 25, 35, 40, 60, 80, 100, 120, 140, 160, 180, 190]}\n",
    "    pipeline = Pipeline([\n",
    "        (\"scaler\", StandardScaler()),\n",
    "        #(\"pca\", PCA()),\n",
    "        (\"model\", model)\n",
    "    ])\n",
    "    \n",
    "    # Perform GridSearchCV\n",
    "    grid = GridSearchCV(\n",
    "        pipeline, \n",
    "        #param_grid={**params, **pca_params}, \n",
    "        param_grid=params, \n",
    "        cv=5, \n",
    "        scoring={'MSE': 'neg_mean_squared_error', 'R2': 'r2'}, \n",
    "        refit='MSE',  \n",
    "        n_jobs=-1\n",
    "    )\n",
    "    grid.fit(X_train, y_train)\n",
    "\n",
    "    best_model_current = grid.best_estimator_\n",
    "    best_cv_mse = -grid.cv_results_['mean_test_MSE'][grid.best_index_] \n",
    "    best_cv_r2 = grid.cv_results_['mean_test_R2'][grid.best_index_]    \n",
    "    \n",
    "    # Store results\n",
    "    results[name] = {\n",
    "        \"Best Params\": grid.best_params_,\n",
    "        \"Best CV Score (MSE)\": best_cv_mse,\n",
    "        \"Best CV Score (R^2)\": best_cv_r2,\n",
    "        \"Best Model\": best_model_current\n",
    "    }\n",
    "\n",
    "    if best_score < best_cv_r2:\n",
    "        best_score = best_cv_r2\n",
    "        best_model_name = name\n",
    "        best_model = best_model_current\n",
    "\n",
    "# Print summary of results\n",
    "for name, res in results.items():\n",
    "    print(f\"\\n{name}\")\n",
    "    print(f\"Best Params: {res['Best Params']}\")\n",
    "    print(f\"Best CV Score (MSE): {res['Best CV Score (MSE)']:.2f}\")\n",
    "    print(f\"Best CV Score (R^2): {res['Best CV Score (R^2)']:.4f}\")"
   ]
  },
  {
   "cell_type": "markdown",
   "metadata": {},
   "source": [
    "The best performing model is Gradient Boosting, with the lowest mean square error with a substantial gap from other models, and with the highst R squared value."
   ]
  },
  {
   "cell_type": "markdown",
   "metadata": {},
   "source": [
    "# 6 - Prediction on the Test Set"
   ]
  },
  {
   "cell_type": "markdown",
   "metadata": {},
   "source": [
    "We use the best model we got to predict the test set."
   ]
  },
  {
   "cell_type": "code",
   "execution_count": 38,
   "metadata": {},
   "outputs": [
    {
     "data": {
      "text/html": [
       "<style>#sk-container-id-3 {\n",
       "  /* Definition of color scheme common for light and dark mode */\n",
       "  --sklearn-color-text: black;\n",
       "  --sklearn-color-line: gray;\n",
       "  /* Definition of color scheme for unfitted estimators */\n",
       "  --sklearn-color-unfitted-level-0: #fff5e6;\n",
       "  --sklearn-color-unfitted-level-1: #f6e4d2;\n",
       "  --sklearn-color-unfitted-level-2: #ffe0b3;\n",
       "  --sklearn-color-unfitted-level-3: chocolate;\n",
       "  /* Definition of color scheme for fitted estimators */\n",
       "  --sklearn-color-fitted-level-0: #f0f8ff;\n",
       "  --sklearn-color-fitted-level-1: #d4ebff;\n",
       "  --sklearn-color-fitted-level-2: #b3dbfd;\n",
       "  --sklearn-color-fitted-level-3: cornflowerblue;\n",
       "\n",
       "  /* Specific color for light theme */\n",
       "  --sklearn-color-text-on-default-background: var(--sg-text-color, var(--theme-code-foreground, var(--jp-content-font-color1, black)));\n",
       "  --sklearn-color-background: var(--sg-background-color, var(--theme-background, var(--jp-layout-color0, white)));\n",
       "  --sklearn-color-border-box: var(--sg-text-color, var(--theme-code-foreground, var(--jp-content-font-color1, black)));\n",
       "  --sklearn-color-icon: #696969;\n",
       "\n",
       "  @media (prefers-color-scheme: dark) {\n",
       "    /* Redefinition of color scheme for dark theme */\n",
       "    --sklearn-color-text-on-default-background: var(--sg-text-color, var(--theme-code-foreground, var(--jp-content-font-color1, white)));\n",
       "    --sklearn-color-background: var(--sg-background-color, var(--theme-background, var(--jp-layout-color0, #111)));\n",
       "    --sklearn-color-border-box: var(--sg-text-color, var(--theme-code-foreground, var(--jp-content-font-color1, white)));\n",
       "    --sklearn-color-icon: #878787;\n",
       "  }\n",
       "}\n",
       "\n",
       "#sk-container-id-3 {\n",
       "  color: var(--sklearn-color-text);\n",
       "}\n",
       "\n",
       "#sk-container-id-3 pre {\n",
       "  padding: 0;\n",
       "}\n",
       "\n",
       "#sk-container-id-3 input.sk-hidden--visually {\n",
       "  border: 0;\n",
       "  clip: rect(1px 1px 1px 1px);\n",
       "  clip: rect(1px, 1px, 1px, 1px);\n",
       "  height: 1px;\n",
       "  margin: -1px;\n",
       "  overflow: hidden;\n",
       "  padding: 0;\n",
       "  position: absolute;\n",
       "  width: 1px;\n",
       "}\n",
       "\n",
       "#sk-container-id-3 div.sk-dashed-wrapped {\n",
       "  border: 1px dashed var(--sklearn-color-line);\n",
       "  margin: 0 0.4em 0.5em 0.4em;\n",
       "  box-sizing: border-box;\n",
       "  padding-bottom: 0.4em;\n",
       "  background-color: var(--sklearn-color-background);\n",
       "}\n",
       "\n",
       "#sk-container-id-3 div.sk-container {\n",
       "  /* jupyter's `normalize.less` sets `[hidden] { display: none; }`\n",
       "     but bootstrap.min.css set `[hidden] { display: none !important; }`\n",
       "     so we also need the `!important` here to be able to override the\n",
       "     default hidden behavior on the sphinx rendered scikit-learn.org.\n",
       "     See: https://github.com/scikit-learn/scikit-learn/issues/21755 */\n",
       "  display: inline-block !important;\n",
       "  position: relative;\n",
       "}\n",
       "\n",
       "#sk-container-id-3 div.sk-text-repr-fallback {\n",
       "  display: none;\n",
       "}\n",
       "\n",
       "div.sk-parallel-item,\n",
       "div.sk-serial,\n",
       "div.sk-item {\n",
       "  /* draw centered vertical line to link estimators */\n",
       "  background-image: linear-gradient(var(--sklearn-color-text-on-default-background), var(--sklearn-color-text-on-default-background));\n",
       "  background-size: 2px 100%;\n",
       "  background-repeat: no-repeat;\n",
       "  background-position: center center;\n",
       "}\n",
       "\n",
       "/* Parallel-specific style estimator block */\n",
       "\n",
       "#sk-container-id-3 div.sk-parallel-item::after {\n",
       "  content: \"\";\n",
       "  width: 100%;\n",
       "  border-bottom: 2px solid var(--sklearn-color-text-on-default-background);\n",
       "  flex-grow: 1;\n",
       "}\n",
       "\n",
       "#sk-container-id-3 div.sk-parallel {\n",
       "  display: flex;\n",
       "  align-items: stretch;\n",
       "  justify-content: center;\n",
       "  background-color: var(--sklearn-color-background);\n",
       "  position: relative;\n",
       "}\n",
       "\n",
       "#sk-container-id-3 div.sk-parallel-item {\n",
       "  display: flex;\n",
       "  flex-direction: column;\n",
       "}\n",
       "\n",
       "#sk-container-id-3 div.sk-parallel-item:first-child::after {\n",
       "  align-self: flex-end;\n",
       "  width: 50%;\n",
       "}\n",
       "\n",
       "#sk-container-id-3 div.sk-parallel-item:last-child::after {\n",
       "  align-self: flex-start;\n",
       "  width: 50%;\n",
       "}\n",
       "\n",
       "#sk-container-id-3 div.sk-parallel-item:only-child::after {\n",
       "  width: 0;\n",
       "}\n",
       "\n",
       "/* Serial-specific style estimator block */\n",
       "\n",
       "#sk-container-id-3 div.sk-serial {\n",
       "  display: flex;\n",
       "  flex-direction: column;\n",
       "  align-items: center;\n",
       "  background-color: var(--sklearn-color-background);\n",
       "  padding-right: 1em;\n",
       "  padding-left: 1em;\n",
       "}\n",
       "\n",
       "\n",
       "/* Toggleable style: style used for estimator/Pipeline/ColumnTransformer box that is\n",
       "clickable and can be expanded/collapsed.\n",
       "- Pipeline and ColumnTransformer use this feature and define the default style\n",
       "- Estimators will overwrite some part of the style using the `sk-estimator` class\n",
       "*/\n",
       "\n",
       "/* Pipeline and ColumnTransformer style (default) */\n",
       "\n",
       "#sk-container-id-3 div.sk-toggleable {\n",
       "  /* Default theme specific background. It is overwritten whether we have a\n",
       "  specific estimator or a Pipeline/ColumnTransformer */\n",
       "  background-color: var(--sklearn-color-background);\n",
       "}\n",
       "\n",
       "/* Toggleable label */\n",
       "#sk-container-id-3 label.sk-toggleable__label {\n",
       "  cursor: pointer;\n",
       "  display: block;\n",
       "  width: 100%;\n",
       "  margin-bottom: 0;\n",
       "  padding: 0.5em;\n",
       "  box-sizing: border-box;\n",
       "  text-align: center;\n",
       "}\n",
       "\n",
       "#sk-container-id-3 label.sk-toggleable__label-arrow:before {\n",
       "  /* Arrow on the left of the label */\n",
       "  content: \"▸\";\n",
       "  float: left;\n",
       "  margin-right: 0.25em;\n",
       "  color: var(--sklearn-color-icon);\n",
       "}\n",
       "\n",
       "#sk-container-id-3 label.sk-toggleable__label-arrow:hover:before {\n",
       "  color: var(--sklearn-color-text);\n",
       "}\n",
       "\n",
       "/* Toggleable content - dropdown */\n",
       "\n",
       "#sk-container-id-3 div.sk-toggleable__content {\n",
       "  max-height: 0;\n",
       "  max-width: 0;\n",
       "  overflow: hidden;\n",
       "  text-align: left;\n",
       "  /* unfitted */\n",
       "  background-color: var(--sklearn-color-unfitted-level-0);\n",
       "}\n",
       "\n",
       "#sk-container-id-3 div.sk-toggleable__content.fitted {\n",
       "  /* fitted */\n",
       "  background-color: var(--sklearn-color-fitted-level-0);\n",
       "}\n",
       "\n",
       "#sk-container-id-3 div.sk-toggleable__content pre {\n",
       "  margin: 0.2em;\n",
       "  border-radius: 0.25em;\n",
       "  color: var(--sklearn-color-text);\n",
       "  /* unfitted */\n",
       "  background-color: var(--sklearn-color-unfitted-level-0);\n",
       "}\n",
       "\n",
       "#sk-container-id-3 div.sk-toggleable__content.fitted pre {\n",
       "  /* unfitted */\n",
       "  background-color: var(--sklearn-color-fitted-level-0);\n",
       "}\n",
       "\n",
       "#sk-container-id-3 input.sk-toggleable__control:checked~div.sk-toggleable__content {\n",
       "  /* Expand drop-down */\n",
       "  max-height: 200px;\n",
       "  max-width: 100%;\n",
       "  overflow: auto;\n",
       "}\n",
       "\n",
       "#sk-container-id-3 input.sk-toggleable__control:checked~label.sk-toggleable__label-arrow:before {\n",
       "  content: \"▾\";\n",
       "}\n",
       "\n",
       "/* Pipeline/ColumnTransformer-specific style */\n",
       "\n",
       "#sk-container-id-3 div.sk-label input.sk-toggleable__control:checked~label.sk-toggleable__label {\n",
       "  color: var(--sklearn-color-text);\n",
       "  background-color: var(--sklearn-color-unfitted-level-2);\n",
       "}\n",
       "\n",
       "#sk-container-id-3 div.sk-label.fitted input.sk-toggleable__control:checked~label.sk-toggleable__label {\n",
       "  background-color: var(--sklearn-color-fitted-level-2);\n",
       "}\n",
       "\n",
       "/* Estimator-specific style */\n",
       "\n",
       "/* Colorize estimator box */\n",
       "#sk-container-id-3 div.sk-estimator input.sk-toggleable__control:checked~label.sk-toggleable__label {\n",
       "  /* unfitted */\n",
       "  background-color: var(--sklearn-color-unfitted-level-2);\n",
       "}\n",
       "\n",
       "#sk-container-id-3 div.sk-estimator.fitted input.sk-toggleable__control:checked~label.sk-toggleable__label {\n",
       "  /* fitted */\n",
       "  background-color: var(--sklearn-color-fitted-level-2);\n",
       "}\n",
       "\n",
       "#sk-container-id-3 div.sk-label label.sk-toggleable__label,\n",
       "#sk-container-id-3 div.sk-label label {\n",
       "  /* The background is the default theme color */\n",
       "  color: var(--sklearn-color-text-on-default-background);\n",
       "}\n",
       "\n",
       "/* On hover, darken the color of the background */\n",
       "#sk-container-id-3 div.sk-label:hover label.sk-toggleable__label {\n",
       "  color: var(--sklearn-color-text);\n",
       "  background-color: var(--sklearn-color-unfitted-level-2);\n",
       "}\n",
       "\n",
       "/* Label box, darken color on hover, fitted */\n",
       "#sk-container-id-3 div.sk-label.fitted:hover label.sk-toggleable__label.fitted {\n",
       "  color: var(--sklearn-color-text);\n",
       "  background-color: var(--sklearn-color-fitted-level-2);\n",
       "}\n",
       "\n",
       "/* Estimator label */\n",
       "\n",
       "#sk-container-id-3 div.sk-label label {\n",
       "  font-family: monospace;\n",
       "  font-weight: bold;\n",
       "  display: inline-block;\n",
       "  line-height: 1.2em;\n",
       "}\n",
       "\n",
       "#sk-container-id-3 div.sk-label-container {\n",
       "  text-align: center;\n",
       "}\n",
       "\n",
       "/* Estimator-specific */\n",
       "#sk-container-id-3 div.sk-estimator {\n",
       "  font-family: monospace;\n",
       "  border: 1px dotted var(--sklearn-color-border-box);\n",
       "  border-radius: 0.25em;\n",
       "  box-sizing: border-box;\n",
       "  margin-bottom: 0.5em;\n",
       "  /* unfitted */\n",
       "  background-color: var(--sklearn-color-unfitted-level-0);\n",
       "}\n",
       "\n",
       "#sk-container-id-3 div.sk-estimator.fitted {\n",
       "  /* fitted */\n",
       "  background-color: var(--sklearn-color-fitted-level-0);\n",
       "}\n",
       "\n",
       "/* on hover */\n",
       "#sk-container-id-3 div.sk-estimator:hover {\n",
       "  /* unfitted */\n",
       "  background-color: var(--sklearn-color-unfitted-level-2);\n",
       "}\n",
       "\n",
       "#sk-container-id-3 div.sk-estimator.fitted:hover {\n",
       "  /* fitted */\n",
       "  background-color: var(--sklearn-color-fitted-level-2);\n",
       "}\n",
       "\n",
       "/* Specification for estimator info (e.g. \"i\" and \"?\") */\n",
       "\n",
       "/* Common style for \"i\" and \"?\" */\n",
       "\n",
       ".sk-estimator-doc-link,\n",
       "a:link.sk-estimator-doc-link,\n",
       "a:visited.sk-estimator-doc-link {\n",
       "  float: right;\n",
       "  font-size: smaller;\n",
       "  line-height: 1em;\n",
       "  font-family: monospace;\n",
       "  background-color: var(--sklearn-color-background);\n",
       "  border-radius: 1em;\n",
       "  height: 1em;\n",
       "  width: 1em;\n",
       "  text-decoration: none !important;\n",
       "  margin-left: 1ex;\n",
       "  /* unfitted */\n",
       "  border: var(--sklearn-color-unfitted-level-1) 1pt solid;\n",
       "  color: var(--sklearn-color-unfitted-level-1);\n",
       "}\n",
       "\n",
       ".sk-estimator-doc-link.fitted,\n",
       "a:link.sk-estimator-doc-link.fitted,\n",
       "a:visited.sk-estimator-doc-link.fitted {\n",
       "  /* fitted */\n",
       "  border: var(--sklearn-color-fitted-level-1) 1pt solid;\n",
       "  color: var(--sklearn-color-fitted-level-1);\n",
       "}\n",
       "\n",
       "/* On hover */\n",
       "div.sk-estimator:hover .sk-estimator-doc-link:hover,\n",
       ".sk-estimator-doc-link:hover,\n",
       "div.sk-label-container:hover .sk-estimator-doc-link:hover,\n",
       ".sk-estimator-doc-link:hover {\n",
       "  /* unfitted */\n",
       "  background-color: var(--sklearn-color-unfitted-level-3);\n",
       "  color: var(--sklearn-color-background);\n",
       "  text-decoration: none;\n",
       "}\n",
       "\n",
       "div.sk-estimator.fitted:hover .sk-estimator-doc-link.fitted:hover,\n",
       ".sk-estimator-doc-link.fitted:hover,\n",
       "div.sk-label-container:hover .sk-estimator-doc-link.fitted:hover,\n",
       ".sk-estimator-doc-link.fitted:hover {\n",
       "  /* fitted */\n",
       "  background-color: var(--sklearn-color-fitted-level-3);\n",
       "  color: var(--sklearn-color-background);\n",
       "  text-decoration: none;\n",
       "}\n",
       "\n",
       "/* Span, style for the box shown on hovering the info icon */\n",
       ".sk-estimator-doc-link span {\n",
       "  display: none;\n",
       "  z-index: 9999;\n",
       "  position: relative;\n",
       "  font-weight: normal;\n",
       "  right: .2ex;\n",
       "  padding: .5ex;\n",
       "  margin: .5ex;\n",
       "  width: min-content;\n",
       "  min-width: 20ex;\n",
       "  max-width: 50ex;\n",
       "  color: var(--sklearn-color-text);\n",
       "  box-shadow: 2pt 2pt 4pt #999;\n",
       "  /* unfitted */\n",
       "  background: var(--sklearn-color-unfitted-level-0);\n",
       "  border: .5pt solid var(--sklearn-color-unfitted-level-3);\n",
       "}\n",
       "\n",
       ".sk-estimator-doc-link.fitted span {\n",
       "  /* fitted */\n",
       "  background: var(--sklearn-color-fitted-level-0);\n",
       "  border: var(--sklearn-color-fitted-level-3);\n",
       "}\n",
       "\n",
       ".sk-estimator-doc-link:hover span {\n",
       "  display: block;\n",
       "}\n",
       "\n",
       "/* \"?\"-specific style due to the `<a>` HTML tag */\n",
       "\n",
       "#sk-container-id-3 a.estimator_doc_link {\n",
       "  float: right;\n",
       "  font-size: 1rem;\n",
       "  line-height: 1em;\n",
       "  font-family: monospace;\n",
       "  background-color: var(--sklearn-color-background);\n",
       "  border-radius: 1rem;\n",
       "  height: 1rem;\n",
       "  width: 1rem;\n",
       "  text-decoration: none;\n",
       "  /* unfitted */\n",
       "  color: var(--sklearn-color-unfitted-level-1);\n",
       "  border: var(--sklearn-color-unfitted-level-1) 1pt solid;\n",
       "}\n",
       "\n",
       "#sk-container-id-3 a.estimator_doc_link.fitted {\n",
       "  /* fitted */\n",
       "  border: var(--sklearn-color-fitted-level-1) 1pt solid;\n",
       "  color: var(--sklearn-color-fitted-level-1);\n",
       "}\n",
       "\n",
       "/* On hover */\n",
       "#sk-container-id-3 a.estimator_doc_link:hover {\n",
       "  /* unfitted */\n",
       "  background-color: var(--sklearn-color-unfitted-level-3);\n",
       "  color: var(--sklearn-color-background);\n",
       "  text-decoration: none;\n",
       "}\n",
       "\n",
       "#sk-container-id-3 a.estimator_doc_link.fitted:hover {\n",
       "  /* fitted */\n",
       "  background-color: var(--sklearn-color-fitted-level-3);\n",
       "}\n",
       "</style><div id=\"sk-container-id-3\" class=\"sk-top-container\"><div class=\"sk-text-repr-fallback\"><pre>Pipeline(steps=[(&#x27;scaler&#x27;, StandardScaler()),\n",
       "                (&#x27;model&#x27;,\n",
       "                 GradientBoostingRegressor(n_estimators=200, random_state=42))])</pre><b>In a Jupyter environment, please rerun this cell to show the HTML representation or trust the notebook. <br />On GitHub, the HTML representation is unable to render, please try loading this page with nbviewer.org.</b></div><div class=\"sk-container\" hidden><div class=\"sk-item sk-dashed-wrapped\"><div class=\"sk-label-container\"><div class=\"sk-label fitted sk-toggleable\"><input class=\"sk-toggleable__control sk-hidden--visually\" id=\"sk-estimator-id-9\" type=\"checkbox\" ><label for=\"sk-estimator-id-9\" class=\"sk-toggleable__label fitted sk-toggleable__label-arrow fitted\">&nbsp;&nbsp;Pipeline<a class=\"sk-estimator-doc-link fitted\" rel=\"noreferrer\" target=\"_blank\" href=\"https://scikit-learn.org/1.4/modules/generated/sklearn.pipeline.Pipeline.html\">?<span>Documentation for Pipeline</span></a><span class=\"sk-estimator-doc-link fitted\">i<span>Fitted</span></span></label><div class=\"sk-toggleable__content fitted\"><pre>Pipeline(steps=[(&#x27;scaler&#x27;, StandardScaler()),\n",
       "                (&#x27;model&#x27;,\n",
       "                 GradientBoostingRegressor(n_estimators=200, random_state=42))])</pre></div> </div></div><div class=\"sk-serial\"><div class=\"sk-item\"><div class=\"sk-estimator fitted sk-toggleable\"><input class=\"sk-toggleable__control sk-hidden--visually\" id=\"sk-estimator-id-10\" type=\"checkbox\" ><label for=\"sk-estimator-id-10\" class=\"sk-toggleable__label fitted sk-toggleable__label-arrow fitted\">&nbsp;StandardScaler<a class=\"sk-estimator-doc-link fitted\" rel=\"noreferrer\" target=\"_blank\" href=\"https://scikit-learn.org/1.4/modules/generated/sklearn.preprocessing.StandardScaler.html\">?<span>Documentation for StandardScaler</span></a></label><div class=\"sk-toggleable__content fitted\"><pre>StandardScaler()</pre></div> </div></div><div class=\"sk-item\"><div class=\"sk-estimator fitted sk-toggleable\"><input class=\"sk-toggleable__control sk-hidden--visually\" id=\"sk-estimator-id-11\" type=\"checkbox\" ><label for=\"sk-estimator-id-11\" class=\"sk-toggleable__label fitted sk-toggleable__label-arrow fitted\">&nbsp;GradientBoostingRegressor<a class=\"sk-estimator-doc-link fitted\" rel=\"noreferrer\" target=\"_blank\" href=\"https://scikit-learn.org/1.4/modules/generated/sklearn.ensemble.GradientBoostingRegressor.html\">?<span>Documentation for GradientBoostingRegressor</span></a></label><div class=\"sk-toggleable__content fitted\"><pre>GradientBoostingRegressor(n_estimators=200, random_state=42)</pre></div> </div></div></div></div></div></div>"
      ],
      "text/plain": [
       "Pipeline(steps=[('scaler', StandardScaler()),\n",
       "                ('model',\n",
       "                 GradientBoostingRegressor(n_estimators=200, random_state=42))])"
      ]
     },
     "execution_count": 38,
     "metadata": {},
     "output_type": "execute_result"
    }
   ],
   "source": [
    "best_model"
   ]
  },
  {
   "cell_type": "code",
   "execution_count": 39,
   "metadata": {},
   "outputs": [
    {
     "name": "stdout",
     "output_type": "stream",
     "text": [
      "Test Score MSE: 25812628613840\n",
      "Test Score MAE: 3040537\n",
      "Test Score R^2: 0.8697\n"
     ]
    }
   ],
   "source": [
    "y_pred = best_model.predict(X_test)\n",
    "mse = mean_squared_error(y_test, y_pred)\n",
    "mae = mean_absolute_error(y_test, y_pred)\n",
    "r2 = r2_score(y_test, y_pred)\n",
    "print(f\"Test Score MSE: {mse:.0f}\")\n",
    "print(f\"Test Score MAE: {mae:.0f}\")\n",
    "print(f\"Test Score R^2: {r2:.4f}\")"
   ]
  },
  {
   "cell_type": "markdown",
   "metadata": {},
   "source": [
    "We notice that the performance of our model on the test set is almost the same as in the validation set, which means our model generalizes very well on unseen data and doesn't overfit on the training set.\n",
    "\n",
    "The Mean Absolute Error gives us an idea of the error made on average by our model in predicting the market value. This error is pretty low considering that the market value can get up to 200M for some players."
   ]
  }
 ],
 "metadata": {
  "kernelspec": {
   "display_name": "Python 3",
   "language": "python",
   "name": "python3"
  },
  "language_info": {
   "codemirror_mode": {
    "name": "ipython",
    "version": 3
   },
   "file_extension": ".py",
   "mimetype": "text/x-python",
   "name": "python",
   "nbconvert_exporter": "python",
   "pygments_lexer": "ipython3",
   "version": "3.9.10"
  }
 },
 "nbformat": 4,
 "nbformat_minor": 2
}
