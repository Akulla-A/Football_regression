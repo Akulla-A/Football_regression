{
 "cells": [
  {
   "cell_type": "code",
   "execution_count": 18,
   "metadata": {},
   "outputs": [],
   "source": [
    "import pandas as pd\n",
    "from os import listdir\n",
    "from os.path import isfile, join"
   ]
  },
  {
   "cell_type": "code",
   "execution_count": 19,
   "metadata": {},
   "outputs": [
    {
     "name": "stdout",
     "output_type": "stream",
     "text": [
      "dict_keys(['clubs', 'club_games', 'game_lineups', 'players', 'stats'])\n"
     ]
    }
   ],
   "source": [
    "datasets = {}\n",
    "\n",
    "path = \"data/\"\n",
    "for f in listdir(path):\n",
    "    if isfile(join(path, f)):\n",
    "        datasets[f.replace(\".csv\", \"\")] = pd.read_csv(join(path, f))\n",
    "\n",
    "print(datasets.keys())"
   ]
  },
  {
   "cell_type": "markdown",
   "metadata": {},
   "source": [
    "player_valuations: Les joueurs ont leur prix évalués chaque année, 2 fois, dans le dataset.\n",
    "Hors, la dernière année comporte qu'une valeur. Cette valeur correspond a celle du dataset players.csv\n",
    "On peut donc se passer de player_valuations."
   ]
  },
  {
   "cell_type": "code",
   "execution_count": 21,
   "metadata": {},
   "outputs": [],
   "source": [
    "# Clear columns\n",
    "clear_columns = {\n",
    "    \"players\": {\n",
    "        \"first_name\",\n",
    "        \"last_name\",\n",
    "        \"player_code\",\n",
    "        \"city_of_birth\",\n",
    "        \"country_of_citizenship\",\n",
    "        \"image_url\",\n",
    "        \"url\"\n",
    "    },\n",
    "\n",
    "    \"stats\": {\n",
    "        \"Rk\", \"Born\", \n",
    "    }\n",
    "}\n",
    "\n",
    "# Clear too old data, we keep 2023 ones.\n",
    "# The issue is that, we have valuations for each year. Something we don't want.\n",
    "\n",
    "# Some names are in double in stats.csv, keep the newer\n"
   ]
  },
  {
   "cell_type": "markdown",
   "metadata": {},
   "source": [
    "Players et stats sont 2 datasets fusionnés\n",
    "Ce qu'on peut extraire des autres csv est le ratio de victoires ( club_games ), combien de fois le joueur a été capitaine, si il était remplaçant ou titulaire ( game_lineups ),  "
   ]
  },
  {
   "cell_type": "code",
   "execution_count": 32,
   "metadata": {},
   "outputs": [
    {
     "name": "stdout",
     "output_type": "stream",
     "text": [
      "91931     1\n",
      "419061    2\n",
      "264372    2\n",
      "257740    0\n",
      "167722    1\n",
      "         ..\n",
      "419183    0\n",
      "632135    0\n",
      "451740    1\n",
      "874446    1\n",
      "265520    1\n",
      "Name: player_id, Length: 25423, dtype: int64\n"
     ]
    }
   ],
   "source": [
    "clean_dataset = pd.merge(datasets[\"stats\"], datasets[\"players\"], on=\"name\")\n",
    "\n",
    "# vars\n",
    "lups = datasets[\"game_lineups\"]\n",
    "all_players = lups['player_id'].unique()\n",
    "\n",
    "# capitaines\n",
    "team_captain_games = lups[lups['team_captain'] == 1]\n",
    "captain_counts = team_captain_games['player_id'].value_counts()\n",
    "captain_counts = captain_counts.reindex(all_players, fill_value=0)\n",
    "\n",
    "# starting\n",
    "starting_lineups = lups[lups['type'] == \"starting_lineup\"]\n",
    "starting_counts = starting_lineups['player_id'].value_counts()\n",
    "starting_counts = starting_counts.reindex(all_players, fill_value=0)\n",
    "\n",
    "# substitutes\n",
    "substitutes = lups[lups['type'] == \"substitutes\"]\n",
    "substitutes_counts = substitutes['player_id'].value_counts()\n",
    "substitutes_counts = substitutes_counts.reindex(all_players, fill_value=0)\n",
    "\n",
    "print(substitutes_counts)\n",
    "# total_market_value, average_age, net_transfer_record. Club.csv\n",
    "# nombre de victoires. club_games.csv"
   ]
  },
  {
   "cell_type": "code",
   "execution_count": null,
   "metadata": {},
   "outputs": [],
   "source": []
  }
 ],
 "metadata": {
  "kernelspec": {
   "display_name": "Python 3",
   "language": "python",
   "name": "python3"
  },
  "language_info": {
   "codemirror_mode": {
    "name": "ipython",
    "version": 3
   },
   "file_extension": ".py",
   "mimetype": "text/x-python",
   "name": "python",
   "nbconvert_exporter": "python",
   "pygments_lexer": "ipython3",
   "version": "3.10.1"
  }
 },
 "nbformat": 4,
 "nbformat_minor": 2
}
