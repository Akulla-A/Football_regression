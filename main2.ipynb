{
 "cells": [
  {
   "cell_type": "code",
   "execution_count": null,
   "metadata": {
    "vscode": {
     "languageId": "plaintext"
    }
   },
   "outputs": [],
   "source": [
    "#\n",
    "clean_dataset = {}\n",
    "\n",
    "# Drop stats.csv: Rk, Nation, Born ( en double avec l'âge, et l'âge est plus centré)\n",
    "# Drop players.csv: city_of_birth, player_id, country_of_citizenship, date_of_birth, image_url, url, \n",
    "\n",
    "# Pourquoi pas le nombre de followers sur twitter, etc ?\n",
    "\n",
    "# Voir si on drop: agent_name, \n",
    "# Appliquer une PCA"
   ]
  },
  {
   "cell_type": "code",
   "execution_count": null,
   "metadata": {
    "vscode": {
     "languageId": "plaintext"
    }
   },
   "outputs": [],
   "source": []
  }
 ],
 "metadata": {
  "language_info": {
   "name": "python"
  }
 },
 "nbformat": 4,
 "nbformat_minor": 2
}
